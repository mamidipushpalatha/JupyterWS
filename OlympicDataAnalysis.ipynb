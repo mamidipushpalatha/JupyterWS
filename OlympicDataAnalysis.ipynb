{
 "cells": [
  {
   "cell_type": "code",
   "execution_count": 364,
   "id": "089dec49-ab7d-49bf-922a-19e07c8951da",
   "metadata": {},
   "outputs": [
    {
     "name": "stdout",
     "output_type": "stream",
     "text": [
      "3.13.1 (main, Dec  3 2024, 17:59:52) [Clang 16.0.0 (clang-1600.0.26.4)]\n"
     ]
    }
   ],
   "source": [
    "import sys\n",
    "print(sys.version)"
   ]
  },
  {
   "cell_type": "code",
   "execution_count": 2,
   "id": "ccc3e973-1c7e-4460-af55-6b1c202d9066",
   "metadata": {},
   "outputs": [],
   "source": [
    "from pyspark.sql import SparkSession\n",
    "from pyspark.sql.functions import *\n"
   ]
  },
  {
   "cell_type": "code",
   "execution_count": 3,
   "id": "21ab2297-536e-4a39-b5ce-dab11d2cdffb",
   "metadata": {},
   "outputs": [
    {
     "name": "stderr",
     "output_type": "stream",
     "text": [
      "Setting default log level to \"WARN\".\n",
      "To adjust logging level use sc.setLogLevel(newLevel). For SparkR, use setLogLevel(newLevel).\n",
      "25/01/03 12:41:08 WARN NativeCodeLoader: Unable to load native-hadoop library for your platform... using builtin-java classes where applicable\n"
     ]
    }
   ],
   "source": [
    "    spark = SparkSession \\\n",
    "        .builder \\\n",
    "        .appName(\"CSV Join Demo\") \\\n",
    "        .master(\"local[3]\") \\\n",
    "        .getOrCreate()\n",
    "spark.sparkContext.setLogLevel(\"OFF\")"
   ]
  },
  {
   "cell_type": "code",
   "execution_count": 5,
   "id": "5d9385aa-f986-4619-80a3-ead1e24e44f7",
   "metadata": {},
   "outputs": [],
   "source": [
    "df = spark.read.format(\"csv\").option(\"header\", \"true\").load(\"/Users/akhitha/pycharmProjects/Spark-Programming-In-Python-master/playground/data/olympics/Teams.csv\")\n"
   ]
  },
  {
   "cell_type": "code",
   "execution_count": 7,
   "id": "5deaf82a-4c82-4ca3-bdd4-6e47e395e746",
   "metadata": {},
   "outputs": [],
   "source": [
    "\n",
    "basepath =\"/Users/akhitha/pycharmProjects/Spark-Programming-In-Python-master/playground/data/olympics\"\n",
    "\n",
    "# Athletes_DF = spark.read.format(\"csv\").option(\"header\", \"true\").load(f\"{basepath}/Athletes.csv\")\n",
    "# Coaches_DF = spark.read.format(\"csv\").option(\"header\", \"true\").load(f\"{basepath}/Coaches.csv\")\n",
    "# EntriesGender_DF = spark.read.format(\"csv\").option(\"header\", \"true\").load(f\"{basepath}/EntriesGender.csv\")\n",
    "# Medals_DF = spark.read.format(\"csv\").option(\"header\", \"true\").load(f\"{basepath}/Medals.csv\")\n",
    "# Teams_DF = spark.read.format(\"csv\").option(\"header\", \"true\").load(f\"{basepath}/Teams.csv\")\n",
    "\n",
    "\n",
    "athletesDf = spark.read.format(\"csv\").option(\"header\", \"true\").load(f\"{basepath}/Athletes.csv\")\n",
    "CoachesDf = spark.read.format(\"csv\").option(\"header\", \"true\").load(f\"{basepath}/Coaches.csv\")\n",
    "entriesGenderDf = spark.read.format(\"csv\").option(\"header\", \"true\").load(f\"{basepath}/EntriesGender.csv\")\n",
    "medalsDf = spark.read.format(\"csv\").option(\"header\", \"true\").load(f\"{basepath}/Medals.csv\")\n",
    "teamsDf = spark.read.format(\"csv\").option(\"header\", \"true\").load(f\"{basepath}/Teams.csv\")\n",
    "\n"
   ]
  },
  {
   "cell_type": "code",
   "execution_count": 8,
   "id": "504f2d00-8ff0-4aaa-bfe6-2d4d10ad8ca6",
   "metadata": {},
   "outputs": [
    {
     "name": "stdout",
     "output_type": "stream",
     "text": [
      "scenario: 1.Find the total number of male and female entries for each discipline where Japan has coaches\n"
     ]
    },
    {
     "name": "stderr",
     "output_type": "stream",
     "text": [
      "[Stage 13:>                                                         (0 + 1) / 1]"
     ]
    },
    {
     "name": "stdout",
     "output_type": "stream",
     "text": [
      "+-----------------+---------+-----------+\n",
      "|       Discipline|MaleCount|FemaleCount|\n",
      "+-----------------+---------+-----------+\n",
      "|Baseball/Softball|    576.0|      360.0|\n",
      "|       Basketball|    720.0|      720.0|\n",
      "|         Handball|    504.0|      504.0|\n",
      "|     Rugby Sevens|    453.0|      438.0|\n",
      "|       Water Polo|    292.0|      244.0|\n",
      "|       Volleyball|    720.0|      720.0|\n",
      "|Artistic Swimming|      0.0|      420.0|\n",
      "|           Hockey|    576.0|      576.0|\n",
      "|         Football|   2064.0|     1584.0|\n",
      "+-----------------+---------+-----------+\n",
      "\n"
     ]
    },
    {
     "name": "stderr",
     "output_type": "stream",
     "text": [
      "                                                                                "
     ]
    }
   ],
   "source": [
    "print(\"scenario: 1.Find the total number of male and female entries for each discipline where Japan has coaches\")\n",
    "\n",
    "GenderCountDf= CoachesDf.join(entriesGenderDf, on=\"Discipline\", how=\"right\")\\\n",
    ".filter(col(\"Country\") == \"Japan\")  \\\n",
    ".groupBy(\"Discipline\") \\\n",
    ".agg(sum(\"Male\").alias(\"MaleCount\"), sum(\"Female\").alias(\"FemaleCount\")) \\\n",
    ".select(\"Discipline\",\"MaleCount\",\"FemaleCount\")\n",
    "\n",
    "GenderCountDf.show()"
   ]
  },
  {
   "cell_type": "code",
   "execution_count": 9,
   "id": "985e14e3-c640-4569-9376-9ee001fbcb17",
   "metadata": {},
   "outputs": [
    {
     "name": "stdout",
     "output_type": "stream",
     "text": [
      "scenario: 1.Find the total number of male and female entries for each discipline where Japan has coaches\n",
      "+-----------------+---------+-----------+\n",
      "|       Discipline|MaleCount|FemaleCount|\n",
      "+-----------------+---------+-----------+\n",
      "|Baseball/Softball|    576.0|      360.0|\n",
      "|       Basketball|    720.0|      720.0|\n",
      "|         Handball|    504.0|      504.0|\n",
      "|     Rugby Sevens|    453.0|      438.0|\n",
      "|       Water Polo|    292.0|      244.0|\n",
      "|       Volleyball|    720.0|      720.0|\n",
      "|Artistic Swimming|      0.0|      420.0|\n",
      "|           Hockey|    576.0|      576.0|\n",
      "|         Football|   2064.0|     1584.0|\n",
      "+-----------------+---------+-----------+\n",
      "\n"
     ]
    }
   ],
   "source": [
    "print(\"scenario: 1.Find the total number of male and female entries for each discipline where Japan has coaches\")\n",
    "\n",
    "GenderCountDf= CoachesDf.join(entriesGenderDf, on=\"Discipline\", how=\"inner\")\\\n",
    ".filter(col(\"Country\") == \"Japan\")  \\\n",
    ".groupBy(\"Discipline\") \\\n",
    ".agg(sum(\"Male\").alias(\"MaleCount\"), sum(\"Female\").alias(\"FemaleCount\")) \\\n",
    ".select(\"Discipline\",\"MaleCount\",\"FemaleCount\")\n",
    "\n",
    "GenderCountDf.show()"
   ]
  },
  {
   "cell_type": "code",
   "execution_count": 113,
   "id": "80e79903-7b47-430b-92c2-5135d8cfc0a1",
   "metadata": {},
   "outputs": [
    {
     "name": "stdout",
     "output_type": "stream",
     "text": [
      "+----+--------------------+----+------+------+-----+-------------+\n",
      "|Rank|         TeamCountry|Gold|Silver|Bronze|Total|Rank by Total|\n",
      "+----+--------------------+----+------+------+-----+-------------+\n",
      "|   1|United States of ...|  39|    41|    33|  113|            1|\n",
      "|   2|People's Republic...|  38|    32|    18|   88|            2|\n",
      "|   3|               Japan|  27|    14|    17|   58|            5|\n",
      "|   4|       Great Britain|  22|    21|    22|   65|            4|\n",
      "|   5|                 ROC|  20|    28|    23|   71|            3|\n",
      "|   6|           Australia|  17|     7|    22|   46|            6|\n",
      "|   7|         Netherlands|  10|    12|    14|   36|            9|\n",
      "|   8|              France|  10|    12|    11|   33|           10|\n",
      "|   9|             Germany|  10|    11|    16|   37|            8|\n",
      "|  10|               Italy|  10|    10|    20|   40|            7|\n",
      "|  11|              Canada|   7|     6|    11|   24|           11|\n",
      "|  12|              Brazil|   7|     6|     8|   21|           12|\n",
      "|  13|         New Zealand|   7|     6|     7|   20|           13|\n",
      "|  14|                Cuba|   7|     3|     5|   15|           18|\n",
      "|  15|             Hungary|   6|     7|     7|   20|           13|\n",
      "|  16|   Republic of Korea|   6|     4|    10|   20|           13|\n",
      "|  17|              Poland|   4|     5|     5|   14|           19|\n",
      "|  18|      Czech Republic|   4|     4|     3|   11|           23|\n",
      "|  19|               Kenya|   4|     4|     2|   10|           25|\n",
      "|  20|              Norway|   4|     2|     2|    8|           29|\n",
      "+----+--------------------+----+------+------+-----+-------------+\n",
      "only showing top 20 rows\n",
      "\n"
     ]
    }
   ],
   "source": [
    "medalsDf.show()"
   ]
  },
  {
   "cell_type": "code",
   "execution_count": 115,
   "id": "e3526a72-7f6e-49aa-a3d7-498fddfc3e1a",
   "metadata": {},
   "outputs": [
    {
     "name": "stdout",
     "output_type": "stream",
     "text": [
      "+-------------+--------------+--------------------+------------+\n",
      "|     TeamName|    Discipline|             Country|       Event|\n",
      "+-------------+--------------+--------------------+------------+\n",
      "|      Belgium|3x3 Basketball|             Belgium|         Men|\n",
      "|        China|3x3 Basketball|People's Republic...|         Men|\n",
      "|        China|3x3 Basketball|People's Republic...|       Women|\n",
      "|       France|3x3 Basketball|              France|       Women|\n",
      "|        Italy|3x3 Basketball|               Italy|       Women|\n",
      "|        Japan|3x3 Basketball|               Japan|         Men|\n",
      "|        Japan|3x3 Basketball|               Japan|       Women|\n",
      "|       Latvia|3x3 Basketball|              Latvia|         Men|\n",
      "|     Mongolia|3x3 Basketball|            Mongolia|       Women|\n",
      "|  Netherlands|3x3 Basketball|         Netherlands|         Men|\n",
      "|       Poland|3x3 Basketball|              Poland|         Men|\n",
      "|          ROC|3x3 Basketball|                 ROC|         Men|\n",
      "|          ROC|3x3 Basketball|                 ROC|       Women|\n",
      "|      Romania|3x3 Basketball|             Romania|       Women|\n",
      "|       Serbia|3x3 Basketball|              Serbia|         Men|\n",
      "|United States|3x3 Basketball|United States of ...|       Women|\n",
      "|    Australia|       Archery|           Australia|  Men's Team|\n",
      "|    Australia|       Archery|           Australia|  Mixed Team|\n",
      "|   Bangladesh|       Archery|          Bangladesh|  Mixed Team|\n",
      "|      Belarus|       Archery|             Belarus|Women's Team|\n",
      "+-------------+--------------+--------------------+------------+\n",
      "only showing top 20 rows\n",
      "\n"
     ]
    }
   ],
   "source": [
    "teamsDf.show()"
   ]
  },
  {
   "cell_type": "code",
   "execution_count": 17,
   "id": "3f4828eb-bbf5-4f77-8ba5-396fcd4151f3",
   "metadata": {},
   "outputs": [
    {
     "name": "stdout",
     "output_type": "stream",
     "text": [
      "Scenario: 2.Determine which country has the highest average number of medals per discipline\n",
      "+--------------------+-----------+\n",
      "|         TeamCountry|totalMedals|\n",
      "+--------------------+-----------+\n",
      "|       Côte d'Ivoire|        1.0|\n",
      "|Islamic Republic ...|        7.0|\n",
      "|      Chinese Taipei|       12.0|\n",
      "|              Sweden|        9.0|\n",
      "|   Republic of Korea|       20.0|\n",
      "|         Philippines|        4.0|\n",
      "|            Malaysia|        2.0|\n",
      "|                Fiji|        2.0|\n",
      "|              Turkey|       13.0|\n",
      "|             Germany|       37.0|\n",
      "|              Jordan|        2.0|\n",
      "|              France|       33.0|\n",
      "|              Greece|        4.0|\n",
      "|              Kosovo|        2.0|\n",
      "|            Slovakia|        4.0|\n",
      "|    Hong Kong, China|        6.0|\n",
      "|           Argentina|        3.0|\n",
      "|             Belgium|        7.0|\n",
      "|       Great Britain|       65.0|\n",
      "|          San Marino|        3.0|\n",
      "+--------------------+-----------+\n",
      "only showing top 20 rows\n",
      "\n"
     ]
    }
   ],
   "source": [
    "    print(\"Scenario: 2.Determine which country has the highest average number of medals per discipline\")\n",
    "    totalmedals_df=medalsDf.groupBy(\"TeamCountry\").agg(sum(\"Total\").alias(\"totalMedals\"))\n",
    "    totalmedals_df.show()\n"
   ]
  },
  {
   "cell_type": "code",
   "execution_count": 18,
   "id": "c739c865-e28f-4983-a284-1ccf98eae88e",
   "metadata": {},
   "outputs": [
    {
     "name": "stdout",
     "output_type": "stream",
     "text": [
      "counting discipline\n",
      "+-------------------+--------------------+---------------+\n",
      "|         Discipline|             country|DisciplineCount|\n",
      "+-------------------+--------------------+---------------+\n",
      "|Artistic Gymnastics|               Italy|              1|\n",
      "|      Cycling Track|         Switzerland|              2|\n",
      "|Artistic Gymnastics|       Great Britain|              2|\n",
      "|         Water Polo|                 ROC|              1|\n",
      "|            Archery|             Ukraine|              2|\n",
      "|  Artistic Swimming|             Belarus|              1|\n",
      "|      Cycling Track|              Canada|              4|\n",
      "|      Cycling Track|             Ireland|              2|\n",
      "|  Artistic Swimming|               Japan|              2|\n",
      "|      Cycling Track|                 ROC|              3|\n",
      "|       Table Tennis|             Germany|              3|\n",
      "|      Cycling Track|         New Zealand|              5|\n",
      "|   Beach Volleyball|              Brazil|              4|\n",
      "|      Cycling Track|             Denmark|              3|\n",
      "|            Fencing|Islamic Republic ...|              1|\n",
      "|           Swimming|               Spain|              1|\n",
      "|Rhythmic Gymnastics|          Azerbaijan|              1|\n",
      "|      Cycling Track|               Japan|              1|\n",
      "|           Swimming|              France|              5|\n",
      "|          Triathlon|             Belgium|              1|\n",
      "+-------------------+--------------------+---------------+\n",
      "only showing top 20 rows\n",
      "\n"
     ]
    }
   ],
   "source": [
    "    print(\"counting discipline\")\n",
    "    DisciplineCountDF=teamsDf.select(\"Country\",\"Discipline\").groupBy(\"Discipline\",\"country\").agg(count(\"Discipline\").alias(\"DisciplineCount\"))\n",
    "    DisciplineCountDF.show()\n"
   ]
  },
  {
   "cell_type": "code",
   "execution_count": 19,
   "id": "2accde41-e858-47f2-9b13-c73a4144cde5",
   "metadata": {},
   "outputs": [
    {
     "name": "stdout",
     "output_type": "stream",
     "text": [
      "+--------------------+-----------+-------------------+--------------------+---------------+\n",
      "|         TeamCountry|totalMedals|         Discipline|             country|DisciplineCount|\n",
      "+--------------------+-----------+-------------------+--------------------+---------------+\n",
      "|               Italy|       40.0|Artistic Gymnastics|               Italy|              1|\n",
      "|         Switzerland|       13.0|      Cycling Track|         Switzerland|              2|\n",
      "|       Great Britain|       65.0|Artistic Gymnastics|       Great Britain|              2|\n",
      "|                 ROC|       71.0|         Water Polo|                 ROC|              1|\n",
      "|             Ukraine|       19.0|            Archery|             Ukraine|              2|\n",
      "|             Belarus|        7.0|  Artistic Swimming|             Belarus|              1|\n",
      "|              Canada|       24.0|      Cycling Track|              Canada|              4|\n",
      "|             Ireland|        4.0|      Cycling Track|             Ireland|              2|\n",
      "|               Japan|       58.0|  Artistic Swimming|               Japan|              2|\n",
      "|                 ROC|       71.0|      Cycling Track|                 ROC|              3|\n",
      "|             Germany|       37.0|       Table Tennis|             Germany|              3|\n",
      "|         New Zealand|       20.0|      Cycling Track|         New Zealand|              5|\n",
      "|              Brazil|       21.0|   Beach Volleyball|              Brazil|              4|\n",
      "|             Denmark|       11.0|      Cycling Track|             Denmark|              3|\n",
      "|Islamic Republic ...|        7.0|            Fencing|Islamic Republic ...|              1|\n",
      "|               Spain|       17.0|           Swimming|               Spain|              1|\n",
      "|          Azerbaijan|        7.0|Rhythmic Gymnastics|          Azerbaijan|              1|\n",
      "|               Japan|       58.0|      Cycling Track|               Japan|              1|\n",
      "|              France|       33.0|           Swimming|              France|              5|\n",
      "|             Belgium|        7.0|          Triathlon|             Belgium|              1|\n",
      "+--------------------+-----------+-------------------+--------------------+---------------+\n",
      "only showing top 20 rows\n",
      "\n",
      "+--------------------+-----------+-------------------+--------------------+---------------+-------------------------+\n",
      "|         TeamCountry|totalMedals|         Discipline|             country|DisciplineCount|avg_medals_per_descipline|\n",
      "+--------------------+-----------+-------------------+--------------------+---------------+-------------------------+\n",
      "|               Italy|       40.0|Artistic Gymnastics|               Italy|              1|                     40.0|\n",
      "|         Switzerland|       13.0|      Cycling Track|         Switzerland|              2|                      6.5|\n",
      "|       Great Britain|       65.0|Artistic Gymnastics|       Great Britain|              2|                     32.5|\n",
      "|                 ROC|       71.0|         Water Polo|                 ROC|              1|                     71.0|\n",
      "|             Ukraine|       19.0|            Archery|             Ukraine|              2|                      9.5|\n",
      "|             Belarus|        7.0|  Artistic Swimming|             Belarus|              1|                      7.0|\n",
      "|              Canada|       24.0|      Cycling Track|              Canada|              4|                      6.0|\n",
      "|             Ireland|        4.0|      Cycling Track|             Ireland|              2|                      2.0|\n",
      "|               Japan|       58.0|  Artistic Swimming|               Japan|              2|                     29.0|\n",
      "|                 ROC|       71.0|      Cycling Track|                 ROC|              3|       23.666666666666668|\n",
      "|             Germany|       37.0|       Table Tennis|             Germany|              3|       12.333333333333334|\n",
      "|         New Zealand|       20.0|      Cycling Track|         New Zealand|              5|                      4.0|\n",
      "|              Brazil|       21.0|   Beach Volleyball|              Brazil|              4|                     5.25|\n",
      "|             Denmark|       11.0|      Cycling Track|             Denmark|              3|       3.6666666666666665|\n",
      "|Islamic Republic ...|        7.0|            Fencing|Islamic Republic ...|              1|                      7.0|\n",
      "|               Spain|       17.0|           Swimming|               Spain|              1|                     17.0|\n",
      "|          Azerbaijan|        7.0|Rhythmic Gymnastics|          Azerbaijan|              1|                      7.0|\n",
      "|               Japan|       58.0|      Cycling Track|               Japan|              1|                     58.0|\n",
      "|              France|       33.0|           Swimming|              France|              5|                      6.6|\n",
      "|             Belgium|        7.0|          Triathlon|             Belgium|              1|                      7.0|\n",
      "+--------------------+-----------+-------------------+--------------------+---------------+-------------------------+\n",
      "only showing top 20 rows\n",
      "\n"
     ]
    }
   ],
   "source": [
    "joined_df=totalmedals_df.join(DisciplineCountDF,totalmedals_df.TeamCountry ==DisciplineCountDF[\"country\"], how=\"inner\")\n",
    "avg_medals_df= joined_df.withColumn(\"avg_medals_per_descipline\", col(\"totalMedals\")/col(\"DisciplineCount\"))\n",
    "joined_df.show()\n",
    "avg_medals_df.show()"
   ]
  },
  {
   "cell_type": "code",
   "execution_count": 13,
   "id": "a363b7d8-4cbe-4057-85d4-0024ca1f5776",
   "metadata": {},
   "outputs": [
    {
     "name": "stdout",
     "output_type": "stream",
     "text": [
      "+--------------------+-----------+--------------+--------------------+---------------+-------------------------+\n",
      "|         TeamCountry|totalMedals|    Discipline|             country|DisciplineCount|avg_medals_per_descipline|\n",
      "+--------------------+-----------+--------------+--------------------+---------------+-------------------------+\n",
      "|United States of ...|      113.0|3x3 Basketball|United States of ...|              1|                    113.0|\n",
      "+--------------------+-----------+--------------+--------------------+---------------+-------------------------+\n",
      "\n"
     ]
    }
   ],
   "source": [
    "highest_avg_medal=avg_medals_df.orderBy(col(\"avg_medals_per_descipline\").desc()).limit(1)\n",
    "highest_avg_medal.show()\n"
   ]
  },
  {
   "cell_type": "code",
   "execution_count": null,
   "id": "c1d49a97-cfc2-41be-8dea-389ad43375f8",
   "metadata": {},
   "outputs": [],
   "source": [
    "3. Group By and Sorting\n",
    "\n",
    " • Scenario: List the top 3 countries with the highest number of gold medals in athletics.\n",
    " • Tasks:\n",
    " • Filter the Medals dataset for athletics (assume it’s included in Event for Teams).\n",
    " • Group by TeamCountry and sum the gold medals.\n",
    " • Sort in descending order and pick the top 3."
   ]
  },
  {
   "cell_type": "code",
   "execution_count": 23,
   "id": "31d85a0c-3211-469e-b39f-354b043f43e7",
   "metadata": {},
   "outputs": [
    {
     "name": "stdout",
     "output_type": "stream",
     "text": [
      "+----+--------------------+----+------+------+-----+-------------+\n",
      "|Rank|         TeamCountry|Gold|Silver|Bronze|Total|Rank by Total|\n",
      "+----+--------------------+----+------+------+-----+-------------+\n",
      "|   1|United States of ...|  39|    41|    33|  113|            1|\n",
      "|   2|People's Republic...|  38|    32|    18|   88|            2|\n",
      "|   3|               Japan|  27|    14|    17|   58|            5|\n",
      "|   4|       Great Britain|  22|    21|    22|   65|            4|\n",
      "|   5|                 ROC|  20|    28|    23|   71|            3|\n",
      "|   6|           Australia|  17|     7|    22|   46|            6|\n",
      "|   7|         Netherlands|  10|    12|    14|   36|            9|\n",
      "|   8|              France|  10|    12|    11|   33|           10|\n",
      "|   9|             Germany|  10|    11|    16|   37|            8|\n",
      "|  10|               Italy|  10|    10|    20|   40|            7|\n",
      "|  11|              Canada|   7|     6|    11|   24|           11|\n",
      "|  12|              Brazil|   7|     6|     8|   21|           12|\n",
      "|  13|         New Zealand|   7|     6|     7|   20|           13|\n",
      "|  14|                Cuba|   7|     3|     5|   15|           18|\n",
      "|  15|             Hungary|   6|     7|     7|   20|           13|\n",
      "|  16|   Republic of Korea|   6|     4|    10|   20|           13|\n",
      "|  17|              Poland|   4|     5|     5|   14|           19|\n",
      "|  18|      Czech Republic|   4|     4|     3|   11|           23|\n",
      "|  19|               Kenya|   4|     4|     2|   10|           25|\n",
      "|  20|              Norway|   4|     2|     2|    8|           29|\n",
      "+----+--------------------+----+------+------+-----+-------------+\n",
      "only showing top 20 rows\n",
      "\n"
     ]
    }
   ],
   "source": [
    "medalsDf.show()"
   ]
  },
  {
   "cell_type": "code",
   "execution_count": 24,
   "id": "d32451fb-a32a-4eef-9f6c-de55dbf05215",
   "metadata": {},
   "outputs": [
    {
     "name": "stdout",
     "output_type": "stream",
     "text": [
      "+--------------------+--------------------+-------------------+\n",
      "|          PersonName|             Country|         Discipline|\n",
      "+--------------------+--------------------+-------------------+\n",
      "|     AALERUD Katrine|              Norway|       Cycling Road|\n",
      "|         ABAD Nestor|               Spain|Artistic Gymnastics|\n",
      "|   ABAGNALE Giovanni|               Italy|             Rowing|\n",
      "|      ABALDE Alberto|               Spain|         Basketball|\n",
      "|       ABALDE Tamara|               Spain|         Basketball|\n",
      "|           ABALO Luc|              France|           Handball|\n",
      "|        ABAROA Cesar|               Chile|             Rowing|\n",
      "|       ABASS Abobakr|               Sudan|           Swimming|\n",
      "|    ABBASALI Hamideh|Islamic Republic ...|             Karate|\n",
      "|       ABBASOV Islam|          Azerbaijan|          Wrestling|\n",
      "|        ABBINGH Lois|         Netherlands|           Handball|\n",
      "|         ABBOT Emily|           Australia|Rhythmic Gymnastics|\n",
      "|       ABBOTT Monica|United States of ...|  Baseball/Softball|\n",
      "|ABDALLA Abubaker ...|               Qatar|          Athletics|\n",
      "|      ABDALLA Maryam|               Egypt|  Artistic Swimming|\n",
      "|      ABDALLAH Shahd|               Egypt|  Artistic Swimming|\n",
      "| ABDALRASOOL Mohamed|               Sudan|               Judo|\n",
      "|   ABDEL LATIF Radwa|               Egypt|           Shooting|\n",
      "|    ABDEL RAZEK Samy|               Egypt|           Shooting|\n",
      "|   ABDELAZIZ Abdalla|               Egypt|             Karate|\n",
      "+--------------------+--------------------+-------------------+\n",
      "only showing top 20 rows\n",
      "\n"
     ]
    }
   ],
   "source": [
    "athletesDf.show()"
   ]
  },
  {
   "cell_type": "code",
   "execution_count": 31,
   "id": "9613a873-c2de-400d-b267-0f4b6e335502",
   "metadata": {},
   "outputs": [
    {
     "name": "stdout",
     "output_type": "stream",
     "text": [
      "+--------------------+---------------+\n",
      "|         TeamCountry|totalGoldMedals|\n",
      "+--------------------+---------------+\n",
      "|United States of ...|        23985.0|\n",
      "|               Japan|        15822.0|\n",
      "|People's Republic...|        15238.0|\n",
      "+--------------------+---------------+\n",
      "\n"
     ]
    }
   ],
   "source": [
    "    sc3Df= medalsDf.join(athletesDf, medalsDf.TeamCountry==athletesDf.Country, \"inner\") \\\n",
    "                .groupBy(\"TeamCountry\") \\\n",
    "            .agg(sum(\"gold\").alias(\"totalGoldMedals\")) \\\n",
    "            .orderBy(col(\"totalGoldMedals\").desc()).limit(3)          \n",
    "sc3Df.show()\n"
   ]
  },
  {
   "cell_type": "code",
   "execution_count": null,
   "id": "62fbbe05-c6ca-4179-9041-ce47a6d2ab0e",
   "metadata": {},
   "outputs": [],
   "source": [
    "Scenario: Analyze gender participation in all disciplines.\n",
    " • Tasks:\n",
    " • Load the EntriesGender dataset.\n",
    " • Calculate the proportion of male and female participants for each discipline.\n",
    " • Identify disciplines with more than 75% female participants"
   ]
  },
  {
   "cell_type": "code",
   "execution_count": 32,
   "id": "0d8ddacb-ccc5-4644-9369-7062f7bf8471",
   "metadata": {},
   "outputs": [
    {
     "name": "stdout",
     "output_type": "stream",
     "text": [
      "+--------------------+------+----+-----+\n",
      "|          Discipline|Female|Male|Total|\n",
      "+--------------------+------+----+-----+\n",
      "|      3x3 Basketball|    32|  32|   64|\n",
      "|             Archery|    64|  64|  128|\n",
      "| Artistic Gymnastics|    98|  98|  196|\n",
      "|   Artistic Swimming|   105|   0|  105|\n",
      "|           Athletics|   969|1072| 2041|\n",
      "|           Badminton|    86|  87|  173|\n",
      "|   Baseball/Softball|    90| 144|  234|\n",
      "|          Basketball|   144| 144|  288|\n",
      "|    Beach Volleyball|    48|  48|   96|\n",
      "|              Boxing|   102| 187|  289|\n",
      "|        Canoe Slalom|    41|  41|   82|\n",
      "|        Canoe Sprint|   123| 126|  249|\n",
      "|Cycling BMX Frees...|    10|   9|   19|\n",
      "|  Cycling BMX Racing|    24|  24|   48|\n",
      "|Cycling Mountain ...|    38|  38|   76|\n",
      "|        Cycling Road|    70| 131|  201|\n",
      "|       Cycling Track|    90|  99|  189|\n",
      "|              Diving|    72|  71|  143|\n",
      "|          Equestrian|    73| 125|  198|\n",
      "|             Fencing|   107| 108|  215|\n",
      "+--------------------+------+----+-----+\n",
      "only showing top 20 rows\n",
      "\n"
     ]
    }
   ],
   "source": [
    "entriesGenderDf.show()"
   ]
  },
  {
   "cell_type": "code",
   "execution_count": 156,
   "id": "29ca5355-f964-455a-90be-5575e1ca7f08",
   "metadata": {},
   "outputs": [],
   "source": [
    "from pyspark.sql.functions import col, count, lit, concat, format_number,window\n"
   ]
  },
  {
   "cell_type": "code",
   "execution_count": 152,
   "id": "efe893a6-96fe-41bb-bb94-940ceb941a0c",
   "metadata": {},
   "outputs": [
    {
     "name": "stdout",
     "output_type": "stream",
     "text": [
      "+-----------------+------+----+-----+----------------+\n",
      "|       Discipline|Female|Male|Total|Femalepercentage|\n",
      "+-----------------+------+----+-----+----------------+\n",
      "|        Athletics|   969|1072| 2041|             47%|\n",
      "|        Badminton|    86|  87|  173|             49%|\n",
      "|Baseball/Softball|    90| 144|  234|             38%|\n",
      "|           Boxing|   102| 187|  289|             35%|\n",
      "|     Canoe Sprint|   123| 126|  249|             49%|\n",
      "|     Cycling Road|    70| 131|  201|             34%|\n",
      "|    Cycling Track|    90|  99|  189|             47%|\n",
      "|       Equestrian|    73| 125|  198|             36%|\n",
      "|          Fencing|   107| 108|  215|             49%|\n",
      "|         Football|   264| 344|  608|             43%|\n",
      "|             Judo|   192| 201|  393|             48%|\n",
      "|           Karate|    40|  42|   82|             48%|\n",
      "|           Rowing|   257| 265|  522|             49%|\n",
      "|     Rugby Sevens|   146| 151|  297|             49%|\n",
      "|         Swimming|   361| 418|  779|             46%|\n",
      "|           Tennis|    94|  97|  191|             49%|\n",
      "|       Water Polo|   122| 146|  268|             45%|\n",
      "|    Weightlifting|    98|  99|  197|             49%|\n",
      "|        Wrestling|    96| 193|  289|             33%|\n",
      "+-----------------+------+----+-----+----------------+\n",
      "\n",
      "root\n",
      " |-- Discipline: string (nullable = true)\n",
      " |-- Female: string (nullable = true)\n",
      " |-- Male: string (nullable = true)\n",
      " |-- Total: string (nullable = true)\n",
      " |-- Femalepercentage: string (nullable = true)\n",
      "\n"
     ]
    }
   ],
   "source": [
    "df=entriesGenderDf\\\n",
    ".withColumn(\"Femalepercentage_Long\", (floor(col(\"FeMale\").cast(\"double\")/col(\"Total\").cast(\"double\")*100))) \\\n",
    ".filter(col(\"Femalepercentage_Long\") < 50)\\\n",
    ".withColumn(\"Femalepercentage\",concat(col(\"Femalepercentage_Long\"),lit(\"%\"))) \\\n",
    ".drop(\"Femalepercentage_Long\")\n",
    "\n",
    "df.show()\n",
    "\n",
    "df.printSchema()"
   ]
  },
  {
   "cell_type": "code",
   "execution_count": 115,
   "id": "2d0bae18-f4d4-4041-b41e-7ebf50289fc0",
   "metadata": {},
   "outputs": [
    {
     "name": "stdout",
     "output_type": "stream",
     "text": [
      "+--------------------+------+----+-----+----------------+-----------------------------+\n",
      "|          Discipline|Female|Male|Total|Femalepercentage|proportion_with_Femalepercent|\n",
      "+--------------------+------+----+-----+----------------+-----------------------------+\n",
      "|      3x3 Basketball|    32|  32|   64|              50|                       50.00%|\n",
      "|             Archery|    64|  64|  128|              50|                       50.00%|\n",
      "| Artistic Gymnastics|    98|  98|  196|              50|                       50.00%|\n",
      "|           Athletics|   969|1072| 2041|              47|                       47.00%|\n",
      "|           Badminton|    86|  87|  173|              49|                       49.00%|\n",
      "|   Baseball/Softball|    90| 144|  234|              38|                       38.00%|\n",
      "|          Basketball|   144| 144|  288|              50|                       50.00%|\n",
      "|    Beach Volleyball|    48|  48|   96|              50|                       50.00%|\n",
      "|              Boxing|   102| 187|  289|              35|                       35.00%|\n",
      "|        Canoe Slalom|    41|  41|   82|              50|                       50.00%|\n",
      "|        Canoe Sprint|   123| 126|  249|              49|                       49.00%|\n",
      "|Cycling BMX Frees...|    10|   9|   19|              52|                       52.00%|\n",
      "|  Cycling BMX Racing|    24|  24|   48|              50|                       50.00%|\n",
      "|Cycling Mountain ...|    38|  38|   76|              50|                       50.00%|\n",
      "|        Cycling Road|    70| 131|  201|              34|                       34.00%|\n",
      "|       Cycling Track|    90|  99|  189|              47|                       47.00%|\n",
      "|              Diving|    72|  71|  143|              50|                       50.00%|\n",
      "|          Equestrian|    73| 125|  198|              36|                       36.00%|\n",
      "|             Fencing|   107| 108|  215|              49|                       49.00%|\n",
      "|            Football|   264| 344|  608|              43|                       43.00%|\n",
      "+--------------------+------+----+-----+----------------+-----------------------------+\n",
      "only showing top 20 rows\n",
      "\n"
     ]
    }
   ],
   "source": [
    "filteredDf= df.filter(col(\"Femalepercentage\") < 75)\n",
    "filteredDf.show()"
   ]
  },
  {
   "cell_type": "code",
   "execution_count": null,
   "id": "946d4769-e849-45fd-acc3-ff113704c959",
   "metadata": {},
   "outputs": [],
   "source": []
  },
  {
   "cell_type": "code",
   "execution_count": 58,
   "id": "63d0dd04-e0d0-4968-8a15-e7cd2ac51fb2",
   "metadata": {},
   "outputs": [
    {
     "name": "stdout",
     "output_type": "stream",
     "text": [
      "+--------------------+------+----+-----+--------------+---------------------+----------------+\n",
      "|          Discipline|Female|Male|Total|malepercrntage|Femaleaddedpercentail|Femalepercentage|\n",
      "+--------------------+------+----+-----+--------------+---------------------+----------------+\n",
      "|      3x3 Basketball|    32|  32|   64|            50|                  32%|              50|\n",
      "|             Archery|    64|  64|  128|            50|                  64%|              50|\n",
      "| Artistic Gymnastics|    98|  98|  196|            50|                  98%|              50|\n",
      "|   Artistic Swimming|   105|   0|  105|             0|                 105%|             100|\n",
      "|           Athletics|   969|1072| 2041|            52|                 969%|              47|\n",
      "|           Badminton|    86|  87|  173|            50|                  86%|              49|\n",
      "|   Baseball/Softball|    90| 144|  234|            61|                  90%|              38|\n",
      "|          Basketball|   144| 144|  288|            50|                 144%|              50|\n",
      "|    Beach Volleyball|    48|  48|   96|            50|                  48%|              50|\n",
      "|              Boxing|   102| 187|  289|            64|                 102%|              35|\n",
      "|        Canoe Slalom|    41|  41|   82|            50|                  41%|              50|\n",
      "|        Canoe Sprint|   123| 126|  249|            50|                 123%|              49|\n",
      "|Cycling BMX Frees...|    10|   9|   19|            47|                  10%|              52|\n",
      "|  Cycling BMX Racing|    24|  24|   48|            50|                  24%|              50|\n",
      "|Cycling Mountain ...|    38|  38|   76|            50|                  38%|              50|\n",
      "|        Cycling Road|    70| 131|  201|            65|                  70%|              34|\n",
      "|       Cycling Track|    90|  99|  189|            52|                  90%|              47|\n",
      "|              Diving|    72|  71|  143|            49|                  72%|              50|\n",
      "|          Equestrian|    73| 125|  198|            63|                  73%|              36|\n",
      "|             Fencing|   107| 108|  215|            50|                 107%|              49|\n",
      "+--------------------+------+----+-----+--------------+---------------------+----------------+\n",
      "only showing top 20 rows\n",
      "\n"
     ]
    }
   ],
   "source": [
    "    proportionDF = entriesGenderDf.withColumn(\"malepercrntage\", floor(col(\"Male\")/col(\"Total\") *100)) \\\n",
    "        .withColumn(\"Femaleaddedpercentail\", concat(col(\"Female\"),lit(\"%\"))) \\\n",
    "     .withColumn(\"Femalepercentage\", (floor(col(\"Female\")/col(\"Total\")*100))) \n",
    "\n",
    "proportionDF.show()"
   ]
  },
  {
   "cell_type": "code",
   "execution_count": null,
   "id": "0de051ec-1029-4348-9b27-143d41f2cc96",
   "metadata": {},
   "outputs": [],
   "source": [
    " • Scenario:5 Add a ranking column to the Medals dataset based on the total number of medals.\n",
    " • Tasks:\n",
    " • Use the Rank by Total column to sort countries.\n",
    " • Add a dense rank column based on the total medal count.\n"
   ]
  },
  {
   "cell_type": "code",
   "execution_count": 169,
   "id": "52cbf6e7-11a7-4b20-8dc2-7f856fe930a1",
   "metadata": {},
   "outputs": [
    {
     "name": "stdout",
     "output_type": "stream",
     "text": [
      "root\n",
      " |-- Rank: string (nullable = true)\n",
      " |-- TeamCountry: string (nullable = true)\n",
      " |-- Gold: string (nullable = true)\n",
      " |-- Silver: string (nullable = true)\n",
      " |-- Bronze: string (nullable = true)\n",
      " |-- Total: string (nullable = true)\n",
      " |-- Rank by Total: string (nullable = true)\n",
      "\n"
     ]
    }
   ],
   "source": [
    "medalsDf.printSchema()"
   ]
  },
  {
   "cell_type": "code",
   "execution_count": 172,
   "id": "3bb8ac00-48e2-4f8c-a8fe-c36536767f2a",
   "metadata": {},
   "outputs": [
    {
     "name": "stdout",
     "output_type": "stream",
     "text": [
      "+----+--------------------+----+------+------+-----+-------------+-------+\n",
      "|Rank|         TeamCountry|Gold|Silver|Bronze|Total|Rank by Total|ranking|\n",
      "+----+--------------------+----+------+------+-----+-------------+-------+\n",
      "|   1|United States of ...|  39|    41|    33|  113|            1|      1|\n",
      "|   2|People's Republic...|  38|    32|    18|   88|            2|      2|\n",
      "|   5|                 ROC|  20|    28|    23|   71|            3|      3|\n",
      "|   4|       Great Britain|  22|    21|    22|   65|            4|      4|\n",
      "|   3|               Japan|  27|    14|    17|   58|            5|      5|\n",
      "|   6|           Australia|  17|     7|    22|   46|            6|      6|\n",
      "|  10|               Italy|  10|    10|    20|   40|            7|      7|\n",
      "|   9|             Germany|  10|    11|    16|   37|            8|      8|\n",
      "|   7|         Netherlands|  10|    12|    14|   36|            9|      9|\n",
      "|   8|              France|  10|    12|    11|   33|           10|     10|\n",
      "|  11|              Canada|   7|     6|    11|   24|           11|     11|\n",
      "|  12|              Brazil|   7|     6|     8|   21|           12|     12|\n",
      "|  13|         New Zealand|   7|     6|     7|   20|           13|     13|\n",
      "|  15|             Hungary|   6|     7|     7|   20|           13|     13|\n",
      "|  16|   Republic of Korea|   6|     4|    10|   20|           13|     13|\n",
      "|  44|             Ukraine|   1|     6|    12|   19|           16|     14|\n",
      "|  22|               Spain|   3|     8|     6|   17|           17|     15|\n",
      "|  14|                Cuba|   7|     3|     5|   15|           18|     16|\n",
      "|  17|              Poland|   4|     5|     5|   14|           19|     17|\n",
      "|  24|         Switzerland|   3|     4|     6|   13|           20|     18|\n",
      "+----+--------------------+----+------+------+-----+-------------+-------+\n",
      "only showing top 20 rows\n",
      "\n"
     ]
    }
   ],
   "source": [
    "from pyspark.sql.window import Window\n",
    "\n",
    "rankDf=medalsDf.withColumn(\"ranking\", dense_rank().over(Window.orderBy(col(\"Total\").cast(\"int\").desc()))) \n",
    "rankDf.show()\n"
   ]
  },
  {
   "cell_type": "code",
   "execution_count": null,
   "id": "524ba179-83ca-4342-8d90-0b48b2ee0a10",
   "metadata": {},
   "outputs": [],
   "source": [
    "Handling Complex Data\n",
    "\n",
    " • Scenario: Identify disciplines where coaches and athletes share the same country.\n",
    " • Tasks:\n",
    " • Join the Coaches and Athletes datasets on Discipline and Country.\n",
    " • List unique disciplines where both coaches and athletes are from the same country.\n"
   ]
  },
  {
   "cell_type": "code",
   "execution_count": 218,
   "id": "613c1e2d-2951-44f4-a620-64018ffe1df3",
   "metadata": {},
   "outputs": [
    {
     "name": "stdout",
     "output_type": "stream",
     "text": [
      "+--------------------+--------------------+-----------------+--------+\n",
      "|                Name|             Country|       Discipline|   Event|\n",
      "+--------------------+--------------------+-----------------+--------+\n",
      "|     ABDELMAGID Wael|               Egypt|         Football|    NULL|\n",
      "|           ABE Junya|               Japan|       Volleyball|    NULL|\n",
      "|       ABE Katsuhiko|               Japan|       Basketball|    NULL|\n",
      "|        ADAMA Cherif|       C�te d'Ivoire|         Football|    NULL|\n",
      "|          AGEBA Yuya|               Japan|       Volleyball|    NULL|\n",
      "|AIKMAN Siegfried ...|               Japan|           Hockey|     Men|\n",
      "|       AL SAADI Kais|             Germany|           Hockey|     Men|\n",
      "|       ALAMEDA Lonni|              Canada|Baseball/Softball|Softball|\n",
      "|     ALEKNO Vladimir|Islamic Republic ...|       Volleyball|     Men|\n",
      "|     ALEKSEEV Alexey|                 ROC|         Handball|   Women|\n",
      "|ALLER CARBALLO Ma...|               Spain|       Basketball|    NULL|\n",
      "|       ALSHEHRI Saad|        Saudi Arabia|         Football|     Men|\n",
      "|           ALY Kamal|               Egypt|         Football|    NULL|\n",
      "| AMAYA GAITAN Fabian|         Puerto Rico|       Basketball|    NULL|\n",
      "|    AMO AGUADO Pablo|               Spain|         Football|    NULL|\n",
      "|   ANDONOVSKI Vlatko|United States of ...|         Football|   Women|\n",
      "|        ANNAN Alyson|         Netherlands|           Hockey|   Women|\n",
      "|  ARNAU CREUS Xavier|               Japan|           Hockey|   Women|\n",
      "|       ARNOLD Graham|           Australia|         Football|     Men|\n",
      "|         AXNER Tomas|              Sweden|         Handball|   Women|\n",
      "+--------------------+--------------------+-----------------+--------+\n",
      "only showing top 20 rows\n",
      "\n",
      "root\n",
      " |-- Name: string (nullable = true)\n",
      " |-- Country: string (nullable = true)\n",
      " |-- Discipline: string (nullable = true)\n",
      " |-- Event: string (nullable = true)\n",
      "\n"
     ]
    }
   ],
   "source": [
    "CoachesDf.show()\n",
    "CoachesDf.printSchema()"
   ]
  },
  {
   "cell_type": "code",
   "execution_count": 219,
   "id": "d54e6b8f-2cb5-478a-9f5a-35090edc32e0",
   "metadata": {},
   "outputs": [
    {
     "name": "stdout",
     "output_type": "stream",
     "text": [
      "+--------------------+--------------------+-------------------+\n",
      "|          PersonName|             Country|         Discipline|\n",
      "+--------------------+--------------------+-------------------+\n",
      "|     AALERUD Katrine|              Norway|       Cycling Road|\n",
      "|         ABAD Nestor|               Spain|Artistic Gymnastics|\n",
      "|   ABAGNALE Giovanni|               Italy|             Rowing|\n",
      "|      ABALDE Alberto|               Spain|         Basketball|\n",
      "|       ABALDE Tamara|               Spain|         Basketball|\n",
      "|           ABALO Luc|              France|           Handball|\n",
      "|        ABAROA Cesar|               Chile|             Rowing|\n",
      "|       ABASS Abobakr|               Sudan|           Swimming|\n",
      "|    ABBASALI Hamideh|Islamic Republic ...|             Karate|\n",
      "|       ABBASOV Islam|          Azerbaijan|          Wrestling|\n",
      "|        ABBINGH Lois|         Netherlands|           Handball|\n",
      "|         ABBOT Emily|           Australia|Rhythmic Gymnastics|\n",
      "|       ABBOTT Monica|United States of ...|  Baseball/Softball|\n",
      "|ABDALLA Abubaker ...|               Qatar|          Athletics|\n",
      "|      ABDALLA Maryam|               Egypt|  Artistic Swimming|\n",
      "|      ABDALLAH Shahd|               Egypt|  Artistic Swimming|\n",
      "| ABDALRASOOL Mohamed|               Sudan|               Judo|\n",
      "|   ABDEL LATIF Radwa|               Egypt|           Shooting|\n",
      "|    ABDEL RAZEK Samy|               Egypt|           Shooting|\n",
      "|   ABDELAZIZ Abdalla|               Egypt|             Karate|\n",
      "+--------------------+--------------------+-------------------+\n",
      "only showing top 20 rows\n",
      "\n",
      "root\n",
      " |-- PersonName: string (nullable = true)\n",
      " |-- Country: string (nullable = true)\n",
      " |-- Discipline: string (nullable = true)\n",
      "\n"
     ]
    }
   ],
   "source": [
    "athletesDf.show()\n",
    "athletesDf.printSchema()"
   ]
  },
  {
   "cell_type": "code",
   "execution_count": 214,
   "id": "3103f25e-c14a-4e6e-a92d-7afece675820",
   "metadata": {},
   "outputs": [],
   "source": [
    "joinCADf= CoachesDf.join(athletesDf).where((CoachesDf.Country==athletesDf.Country) & (CoachesDf.Discipline==athletesDf.Discipline))"
   ]
  },
  {
   "cell_type": "code",
   "execution_count": 217,
   "id": "a0dafd30-75e0-4329-8985-2d766c7dd267",
   "metadata": {},
   "outputs": [
    {
     "name": "stdout",
     "output_type": "stream",
     "text": [
      "+-----------------+------------------+\n",
      "|       Discipline|           Country|\n",
      "+-----------------+------------------+\n",
      "|       Water Polo|               ROC|\n",
      "|Artistic Swimming|           Belarus|\n",
      "|Artistic Swimming|             Japan|\n",
      "|       Volleyball|            Serbia|\n",
      "|     Rugby Sevens|           Ireland|\n",
      "|           Hockey|             Japan|\n",
      "|         Football|          Honduras|\n",
      "|Artistic Swimming|          Colombia|\n",
      "|         Handball|           Denmark|\n",
      "|       Volleyball| Republic of Korea|\n",
      "|           Hockey|      South Africa|\n",
      "|       Basketball|         Argentina|\n",
      "|       Volleyball|Dominican Republic|\n",
      "|         Handball| Republic of Korea|\n",
      "|         Football|       New Zealand|\n",
      "|     Rugby Sevens|            France|\n",
      "|       Volleyball|            Brazil|\n",
      "|         Football|             Chile|\n",
      "|         Handball|            Angola|\n",
      "|       Water Polo|             Japan|\n",
      "+-----------------+------------------+\n",
      "only showing top 20 rows\n",
      "\n"
     ]
    }
   ],
   "source": [
    "joinmultiDf=CoachesDf.join(athletesDf,[\"Country\",\"Discipline\"],\"inner\") \\\n",
    ".select(\"Discipline\",\"Country\")\\\n",
    ".distinct()\n",
    "joinmultiDf.show()"
   ]
  },
  {
   "cell_type": "code",
   "execution_count": null,
   "id": "cc5a913b-b002-44aa-ba9e-836b3aa19f5f",
   "metadata": {},
   "outputs": [],
   "source": [
    "7. Window Functions\n",
    "\n",
    " • Scenario: Find the most successful coach by event based on the number of medals won by their team.\n",
    " • Tasks:\n"
   ]
  },
  {
   "cell_type": "code",
   "execution_count": 226,
   "id": "5572415e-6594-41d6-a5a7-72824cad1f44",
   "metadata": {},
   "outputs": [
    {
     "name": "stdout",
     "output_type": "stream",
     "text": [
      "+-------------+--------------+--------------------+------------+\n",
      "|     TeamName|    Discipline|             Country|       Event|\n",
      "+-------------+--------------+--------------------+------------+\n",
      "|      Belgium|3x3 Basketball|             Belgium|         Men|\n",
      "|        China|3x3 Basketball|People's Republic...|         Men|\n",
      "|        China|3x3 Basketball|People's Republic...|       Women|\n",
      "|       France|3x3 Basketball|              France|       Women|\n",
      "|        Italy|3x3 Basketball|               Italy|       Women|\n",
      "|        Japan|3x3 Basketball|               Japan|         Men|\n",
      "|        Japan|3x3 Basketball|               Japan|       Women|\n",
      "|       Latvia|3x3 Basketball|              Latvia|         Men|\n",
      "|     Mongolia|3x3 Basketball|            Mongolia|       Women|\n",
      "|  Netherlands|3x3 Basketball|         Netherlands|         Men|\n",
      "|       Poland|3x3 Basketball|              Poland|         Men|\n",
      "|          ROC|3x3 Basketball|                 ROC|         Men|\n",
      "|          ROC|3x3 Basketball|                 ROC|       Women|\n",
      "|      Romania|3x3 Basketball|             Romania|       Women|\n",
      "|       Serbia|3x3 Basketball|              Serbia|         Men|\n",
      "|United States|3x3 Basketball|United States of ...|       Women|\n",
      "|    Australia|       Archery|           Australia|  Men's Team|\n",
      "|    Australia|       Archery|           Australia|  Mixed Team|\n",
      "|   Bangladesh|       Archery|          Bangladesh|  Mixed Team|\n",
      "|      Belarus|       Archery|             Belarus|Women's Team|\n",
      "+-------------+--------------+--------------------+------------+\n",
      "only showing top 20 rows\n",
      "\n",
      "root\n",
      " |-- TeamName: string (nullable = true)\n",
      " |-- Discipline: string (nullable = true)\n",
      " |-- Country: string (nullable = true)\n",
      " |-- Event: string (nullable = true)\n",
      "\n"
     ]
    }
   ],
   "source": [
    "teamsDf.show()\n",
    "teamsDf.printSchema()"
   ]
  },
  {
   "cell_type": "code",
   "execution_count": null,
   "id": "dcdc3c76-d7db-4502-9ba4-ef1e72303893",
   "metadata": {},
   "outputs": [],
   "source": []
  },
  {
   "cell_type": "code",
   "execution_count": null,
   "id": "f53351b8-e2be-464a-86c0-f99e712bea02",
   "metadata": {},
   "outputs": [],
   "source": []
  },
  {
   "cell_type": "code",
   "execution_count": 224,
   "id": "79f19f63-54d2-4701-9439-31a5004f154c",
   "metadata": {},
   "outputs": [
    {
     "name": "stdout",
     "output_type": "stream",
     "text": [
      "+----+--------------------+----+------+------+-----+-------------+\n",
      "|Rank|         TeamCountry|Gold|Silver|Bronze|Total|Rank by Total|\n",
      "+----+--------------------+----+------+------+-----+-------------+\n",
      "|   1|United States of ...|  39|    41|    33|  113|            1|\n",
      "|   2|People's Republic...|  38|    32|    18|   88|            2|\n",
      "|   3|               Japan|  27|    14|    17|   58|            5|\n",
      "|   4|       Great Britain|  22|    21|    22|   65|            4|\n",
      "|   5|                 ROC|  20|    28|    23|   71|            3|\n",
      "|   6|           Australia|  17|     7|    22|   46|            6|\n",
      "|   7|         Netherlands|  10|    12|    14|   36|            9|\n",
      "|   8|              France|  10|    12|    11|   33|           10|\n",
      "|   9|             Germany|  10|    11|    16|   37|            8|\n",
      "|  10|               Italy|  10|    10|    20|   40|            7|\n",
      "|  11|              Canada|   7|     6|    11|   24|           11|\n",
      "|  12|              Brazil|   7|     6|     8|   21|           12|\n",
      "|  13|         New Zealand|   7|     6|     7|   20|           13|\n",
      "|  14|                Cuba|   7|     3|     5|   15|           18|\n",
      "|  15|             Hungary|   6|     7|     7|   20|           13|\n",
      "|  16|   Republic of Korea|   6|     4|    10|   20|           13|\n",
      "|  17|              Poland|   4|     5|     5|   14|           19|\n",
      "|  18|      Czech Republic|   4|     4|     3|   11|           23|\n",
      "|  19|               Kenya|   4|     4|     2|   10|           25|\n",
      "|  20|              Norway|   4|     2|     2|    8|           29|\n",
      "+----+--------------------+----+------+------+-----+-------------+\n",
      "only showing top 20 rows\n",
      "\n",
      "root\n",
      " |-- Rank: string (nullable = true)\n",
      " |-- TeamCountry: string (nullable = true)\n",
      " |-- Gold: string (nullable = true)\n",
      " |-- Silver: string (nullable = true)\n",
      " |-- Bronze: string (nullable = true)\n",
      " |-- Total: string (nullable = true)\n",
      " |-- Rank by Total: string (nullable = true)\n",
      "\n"
     ]
    }
   ],
   "source": [
    "medalsDf.show()\n",
    "medalsDf.printSchema()"
   ]
  },
  {
   "cell_type": "code",
   "execution_count": 269,
   "id": "02203a69-108e-4275-9dfe-94904ea8d9b2",
   "metadata": {},
   "outputs": [
    {
     "name": "stdout",
     "output_type": "stream",
     "text": [
      "+-------------+--------------+--------------------+------------+\n",
      "|     TeamName|    Discipline|             Country|  TeamsEvent|\n",
      "+-------------+--------------+--------------------+------------+\n",
      "|      Belgium|3x3 Basketball|             Belgium|         Men|\n",
      "|        China|3x3 Basketball|People's Republic...|         Men|\n",
      "|        China|3x3 Basketball|People's Republic...|       Women|\n",
      "|       France|3x3 Basketball|              France|       Women|\n",
      "|        Italy|3x3 Basketball|               Italy|       Women|\n",
      "|        Japan|3x3 Basketball|               Japan|         Men|\n",
      "|        Japan|3x3 Basketball|               Japan|       Women|\n",
      "|       Latvia|3x3 Basketball|              Latvia|         Men|\n",
      "|     Mongolia|3x3 Basketball|            Mongolia|       Women|\n",
      "|  Netherlands|3x3 Basketball|         Netherlands|         Men|\n",
      "|       Poland|3x3 Basketball|              Poland|         Men|\n",
      "|          ROC|3x3 Basketball|                 ROC|         Men|\n",
      "|          ROC|3x3 Basketball|                 ROC|       Women|\n",
      "|      Romania|3x3 Basketball|             Romania|       Women|\n",
      "|       Serbia|3x3 Basketball|              Serbia|         Men|\n",
      "|United States|3x3 Basketball|United States of ...|       Women|\n",
      "|    Australia|       Archery|           Australia|  Men's Team|\n",
      "|    Australia|       Archery|           Australia|  Mixed Team|\n",
      "|   Bangladesh|       Archery|          Bangladesh|  Mixed Team|\n",
      "|      Belarus|       Archery|             Belarus|Women's Team|\n",
      "+-------------+--------------+--------------------+------------+\n",
      "only showing top 20 rows\n",
      "\n"
     ]
    }
   ],
   "source": [
    "renameTeamsDf=teamsDf.withColumnRenamed(\"Event\",\"TeamsEvent\")\n",
    "renameTeamsDf.show()\n"
   ]
  },
  {
   "cell_type": "code",
   "execution_count": 280,
   "id": "f58181d4-5c49-4ab9-91e6-09109869abd5",
   "metadata": {},
   "outputs": [
    {
     "name": "stdout",
     "output_type": "stream",
     "text": [
      "+--------------------+-----------------+-------------------+-----+---------+----------+\n",
      "|             Country|       Discipline|               Name|Event| TeamName|TeamsEvent|\n",
      "+--------------------+-----------------+-------------------+-----+---------+----------+\n",
      "|           Australia|Artistic Swimming|   MONTICO Loredana| Team|Australia|      Duet|\n",
      "|           Australia|Artistic Swimming|   MONTICO Loredana| Duet|Australia|      Duet|\n",
      "|           Australia|Artistic Swimming|   MONTICO Loredana| Team|Australia|      Team|\n",
      "|           Australia|Artistic Swimming|   MONTICO Loredana| Duet|Australia|      Team|\n",
      "|             Austria|Artistic Swimming|   SHAHNAZI Shahbaz| NULL|  Austria|      Duet|\n",
      "|             Austria|Artistic Swimming|   MLADENOVA Albena| Duet|  Austria|      Duet|\n",
      "|             Austria|Artistic Swimming|      BRUN Aristide| NULL|  Austria|      Duet|\n",
      "|             Belarus|Artistic Swimming|SVETLICHNAYA Aliona| Duet|  Belarus|      Duet|\n",
      "|              Canada|Artistic Swimming|      SZAUDER Gabor| Team|   Canada|      Duet|\n",
      "|              Canada|Artistic Swimming|      SZAUDER Gabor| Duet|   Canada|      Duet|\n",
      "|              Canada|Artistic Swimming|  KULESZA Katarzyna| Team|   Canada|      Duet|\n",
      "|              Canada|Artistic Swimming|        DORE Karine| NULL|   Canada|      Duet|\n",
      "|              Canada|Artistic Swimming|      SZAUDER Gabor| Team|   Canada|      Team|\n",
      "|              Canada|Artistic Swimming|      SZAUDER Gabor| Duet|   Canada|      Team|\n",
      "|              Canada|Artistic Swimming|  KULESZA Katarzyna| Team|   Canada|      Team|\n",
      "|              Canada|Artistic Swimming|        DORE Karine| NULL|   Canada|      Team|\n",
      "|People's Republic...|Artistic Swimming|     ZHANG Xiaohuan| NULL|    China|      Duet|\n",
      "|People's Republic...|Artistic Swimming|           WANG Jie| Team|    China|      Duet|\n",
      "|People's Republic...|Artistic Swimming|           WANG Jie| Duet|    China|      Duet|\n",
      "|People's Republic...|Artistic Swimming|     ZHANG Xiaohuan| NULL|    China|      Team|\n",
      "+--------------------+-----------------+-------------------+-----+---------+----------+\n",
      "only showing top 20 rows\n",
      "\n"
     ]
    }
   ],
   "source": [
    "join2Dfs=CoachesDf.join(renameTeamsDf,[\"Country\",\"Discipline\"],\"inner\")\n",
    "join2Dfs.show()"
   ]
  },
  {
   "cell_type": "code",
   "execution_count": 281,
   "id": "0796009b-9627-4664-94d3-e40f6bd7946a",
   "metadata": {},
   "outputs": [
    {
     "name": "stdout",
     "output_type": "stream",
     "text": [
      "+--------------------------+-----------------+-------------------+-----+---------+----------+----+--------------------------+----+------+------+-----+-------------+\n",
      "|Country                   |Discipline       |Name               |Event|TeamName |TeamsEvent|Rank|TeamCountry               |Gold|Silver|Bronze|Total|Rank by Total|\n",
      "+--------------------------+-----------------+-------------------+-----+---------+----------+----+--------------------------+----+------+------+-----+-------------+\n",
      "|Australia                 |Artistic Swimming|MONTICO Loredana   |Team |Australia|Duet      |6   |Australia                 |17  |7     |22    |46   |6            |\n",
      "|Australia                 |Artistic Swimming|MONTICO Loredana   |Duet |Australia|Duet      |6   |Australia                 |17  |7     |22    |46   |6            |\n",
      "|Australia                 |Artistic Swimming|MONTICO Loredana   |Team |Australia|Team      |6   |Australia                 |17  |7     |22    |46   |6            |\n",
      "|Australia                 |Artistic Swimming|MONTICO Loredana   |Duet |Australia|Team      |6   |Australia                 |17  |7     |22    |46   |6            |\n",
      "|Austria                   |Artistic Swimming|SHAHNAZI Shahbaz   |NULL |Austria  |Duet      |53  |Austria                   |1   |1     |5     |7    |33           |\n",
      "|Austria                   |Artistic Swimming|MLADENOVA Albena   |Duet |Austria  |Duet      |53  |Austria                   |1   |1     |5     |7    |33           |\n",
      "|Austria                   |Artistic Swimming|BRUN Aristide      |NULL |Austria  |Duet      |53  |Austria                   |1   |1     |5     |7    |33           |\n",
      "|Belarus                   |Artistic Swimming|SVETLICHNAYA Aliona|Duet |Belarus  |Duet      |45  |Belarus                   |1   |3     |3     |7    |33           |\n",
      "|Canada                    |Artistic Swimming|SZAUDER Gabor      |Team |Canada   |Duet      |11  |Canada                    |7   |6     |11    |24   |11           |\n",
      "|Canada                    |Artistic Swimming|SZAUDER Gabor      |Duet |Canada   |Duet      |11  |Canada                    |7   |6     |11    |24   |11           |\n",
      "|Canada                    |Artistic Swimming|KULESZA Katarzyna  |Team |Canada   |Duet      |11  |Canada                    |7   |6     |11    |24   |11           |\n",
      "|Canada                    |Artistic Swimming|DORE Karine        |NULL |Canada   |Duet      |11  |Canada                    |7   |6     |11    |24   |11           |\n",
      "|Canada                    |Artistic Swimming|SZAUDER Gabor      |Team |Canada   |Team      |11  |Canada                    |7   |6     |11    |24   |11           |\n",
      "|Canada                    |Artistic Swimming|SZAUDER Gabor      |Duet |Canada   |Team      |11  |Canada                    |7   |6     |11    |24   |11           |\n",
      "|Canada                    |Artistic Swimming|KULESZA Katarzyna  |Team |Canada   |Team      |11  |Canada                    |7   |6     |11    |24   |11           |\n",
      "|Canada                    |Artistic Swimming|DORE Karine        |NULL |Canada   |Team      |11  |Canada                    |7   |6     |11    |24   |11           |\n",
      "|People's Republic of China|Artistic Swimming|ZHANG Xiaohuan     |NULL |China    |Duet      |2   |People's Republic of China|38  |32    |18    |88   |2            |\n",
      "|People's Republic of China|Artistic Swimming|WANG Jie           |Team |China    |Duet      |2   |People's Republic of China|38  |32    |18    |88   |2            |\n",
      "|People's Republic of China|Artistic Swimming|WANG Jie           |Duet |China    |Duet      |2   |People's Republic of China|38  |32    |18    |88   |2            |\n",
      "|People's Republic of China|Artistic Swimming|ZHANG Xiaohuan     |NULL |China    |Team      |2   |People's Republic of China|38  |32    |18    |88   |2            |\n",
      "+--------------------------+-----------------+-------------------+-----+---------+----------+----+--------------------------+----+------+------+-----+-------------+\n",
      "only showing top 20 rows\n",
      "\n"
     ]
    }
   ],
   "source": [
    "join3Dfs= join2Dfs.join(medalsDf,join2Dfs[\"Country\"]==medalsDf[\"TeamCountry\"],\"inner\")\n",
    "join3Dfs.show(truncate=False)"
   ]
  },
  {
   "cell_type": "code",
   "execution_count": 279,
   "id": "1990fe46-fea9-4a4f-bf10-a85a762ab52b",
   "metadata": {},
   "outputs": [
    {
     "name": "stdout",
     "output_type": "stream",
     "text": [
      "+--------------------+----------+-----+----+-----------------+--------------------+\n",
      "|                Name|TeamsEvent|Total|rank|       Discipline|            Teamname|\n",
      "+--------------------+----------+-----+----+-----------------+--------------------+\n",
      "|     ABDELMAGID Wael|       Men|    6|   1|         Football|               Egypt|\n",
      "|           ABE Junya|       Men|   58|   1|       Volleyball|               Japan|\n",
      "|           ABE Junya|     Women|   58|   1|       Volleyball|               Japan|\n",
      "|       ABE Katsuhiko|       Men|   58|   1|       Basketball|               Japan|\n",
      "|       ABE Katsuhiko|     Women|   58|   1|       Basketball|               Japan|\n",
      "|          AGEBA Yuya|       Men|   58|   1|       Volleyball|               Japan|\n",
      "|          AGEBA Yuya|     Women|   58|   1|       Volleyball|               Japan|\n",
      "|AIKMAN Siegfried ...|       Men|   58|   1|           Hockey|               Japan|\n",
      "|AIKMAN Siegfried ...|     Women|   58|   1|           Hockey|               Japan|\n",
      "|       AL SAADI Kais|       Men|   37|   1|           Hockey|             Germany|\n",
      "|       AL SAADI Kais|     Women|   37|   1|           Hockey|             Germany|\n",
      "|       ALAMEDA Lonni|  Softball|   24|   1|Baseball/Softball|              Canada|\n",
      "|     ALEKNO Vladimir|       Men|    7|   1|       Volleyball|Islamic Rep. of Iran|\n",
      "|     ALEKSEEV Alexey|     Women|   71|   1|         Handball|                 ROC|\n",
      "|ALLER CARBALLO Ma...|       Men|   17|   1|       Basketball|               Spain|\n",
      "|ALLER CARBALLO Ma...|     Women|   17|   1|       Basketball|               Spain|\n",
      "|       ALSHEHRI Saad|       Men|    1|   1|         Football|        Saudi Arabia|\n",
      "|           ALY Kamal|       Men|    6|   1|         Football|               Egypt|\n",
      "| AMAYA GAITAN Fabian|     Women|    1|   1|       Basketball|         Puerto Rico|\n",
      "|    AMO AGUADO Pablo|       Men|   17|   1|         Football|               Spain|\n",
      "+--------------------+----------+-----+----+-----------------+--------------------+\n",
      "only showing top 20 rows\n",
      "\n"
     ]
    }
   ],
   "source": [
    "\n",
    "winspec=Window.partitionBy(\"Name\").orderBy(col(\"Total\").cast(\"int\").desc())\n",
    "winDf=join3Dfs.withColumn(\"rank\", dense_rank().over(winspec)) \\\n",
    ".select(\"Name\",\"TeamsEvent\",\"Total\",\"rank\",\"Discipline\",\"Teamname\")\n",
    "winDf.show()\n"
   ]
  },
  {
   "cell_type": "code",
   "execution_count": 289,
   "id": "177f28de-cefa-4cea-9a9a-0901261fd85e",
   "metadata": {},
   "outputs": [
    {
     "ename": "NameError",
     "evalue": "name 'l' is not defined",
     "output_type": "error",
     "traceback": [
      "\u001b[0;31m---------------------------------------------------------------------------\u001b[0m",
      "\u001b[0;31mNameError\u001b[0m                                 Traceback (most recent call last)",
      "Cell \u001b[0;32mIn[289], line 1\u001b[0m\n\u001b[0;32m----> 1\u001b[0m \u001b[43ml\u001b[49m\n",
      "\u001b[0;31mNameError\u001b[0m: name 'l' is not defined"
     ]
    }
   ],
   "source": [
    "Find the most successful coach by event based on the number of medals won by their team"
   ]
  },
  {
   "cell_type": "code",
   "execution_count": 305,
   "id": "add39980-c095-40cf-94b1-bd9eda00ded0",
   "metadata": {},
   "outputs": [
    {
     "name": "stdout",
     "output_type": "stream",
     "text": [
      "+----+--------------------+----+------+------+-----+-------------+\n",
      "|Rank|         TeamCountry|Gold|Silver|Bronze|Total|Rank by Total|\n",
      "+----+--------------------+----+------+------+-----+-------------+\n",
      "|   1|United States of ...|  39|    41|    33|  113|            1|\n",
      "|   2|People's Republic...|  38|    32|    18|   88|            2|\n",
      "|   3|               Japan|  27|    14|    17|   58|            5|\n",
      "|   4|       Great Britain|  22|    21|    22|   65|            4|\n",
      "|   5|                 ROC|  20|    28|    23|   71|            3|\n",
      "|   6|           Australia|  17|     7|    22|   46|            6|\n",
      "|   7|         Netherlands|  10|    12|    14|   36|            9|\n",
      "|   8|              France|  10|    12|    11|   33|           10|\n",
      "|   9|             Germany|  10|    11|    16|   37|            8|\n",
      "|  10|               Italy|  10|    10|    20|   40|            7|\n",
      "|  11|              Canada|   7|     6|    11|   24|           11|\n",
      "|  12|              Brazil|   7|     6|     8|   21|           12|\n",
      "|  13|         New Zealand|   7|     6|     7|   20|           13|\n",
      "|  14|                Cuba|   7|     3|     5|   15|           18|\n",
      "|  15|             Hungary|   6|     7|     7|   20|           13|\n",
      "|  16|   Republic of Korea|   6|     4|    10|   20|           13|\n",
      "|  17|              Poland|   4|     5|     5|   14|           19|\n",
      "|  18|      Czech Republic|   4|     4|     3|   11|           23|\n",
      "|  19|               Kenya|   4|     4|     2|   10|           25|\n",
      "|  20|              Norway|   4|     2|     2|    8|           29|\n",
      "+----+--------------------+----+------+------+-----+-------------+\n",
      "only showing top 20 rows\n",
      "\n",
      "+--------------------+--------------------+-----------------+--------+\n",
      "|                Name|             Country|       Discipline|   Event|\n",
      "+--------------------+--------------------+-----------------+--------+\n",
      "|     ABDELMAGID Wael|               Egypt|         Football|    NULL|\n",
      "|           ABE Junya|               Japan|       Volleyball|    NULL|\n",
      "|       ABE Katsuhiko|               Japan|       Basketball|    NULL|\n",
      "|        ADAMA Cherif|       C�te d'Ivoire|         Football|    NULL|\n",
      "|          AGEBA Yuya|               Japan|       Volleyball|    NULL|\n",
      "|AIKMAN Siegfried ...|               Japan|           Hockey|     Men|\n",
      "|       AL SAADI Kais|             Germany|           Hockey|     Men|\n",
      "|       ALAMEDA Lonni|              Canada|Baseball/Softball|Softball|\n",
      "|     ALEKNO Vladimir|Islamic Republic ...|       Volleyball|     Men|\n",
      "|     ALEKSEEV Alexey|                 ROC|         Handball|   Women|\n",
      "|ALLER CARBALLO Ma...|               Spain|       Basketball|    NULL|\n",
      "|       ALSHEHRI Saad|        Saudi Arabia|         Football|     Men|\n",
      "|           ALY Kamal|               Egypt|         Football|    NULL|\n",
      "| AMAYA GAITAN Fabian|         Puerto Rico|       Basketball|    NULL|\n",
      "|    AMO AGUADO Pablo|               Spain|         Football|    NULL|\n",
      "|   ANDONOVSKI Vlatko|United States of ...|         Football|   Women|\n",
      "|        ANNAN Alyson|         Netherlands|           Hockey|   Women|\n",
      "|  ARNAU CREUS Xavier|               Japan|           Hockey|   Women|\n",
      "|       ARNOLD Graham|           Australia|         Football|     Men|\n",
      "|         AXNER Tomas|              Sweden|         Handball|   Women|\n",
      "+--------------------+--------------------+-----------------+--------+\n",
      "only showing top 20 rows\n",
      "\n"
     ]
    }
   ],
   "source": [
    "medalsDf.show()\n",
    "CoachesDf.show()"
   ]
  },
  {
   "cell_type": "code",
   "execution_count": 307,
   "id": "4204cc8a-50bf-40ce-84fa-d3a8ce764be5",
   "metadata": {},
   "outputs": [
    {
     "name": "stdout",
     "output_type": "stream",
     "text": [
      "+-------------+--------------+--------------------+------------+\n",
      "|     TeamName|    Discipline|             Country|       Event|\n",
      "+-------------+--------------+--------------------+------------+\n",
      "|      Belgium|3x3 Basketball|             Belgium|         Men|\n",
      "|        China|3x3 Basketball|People's Republic...|         Men|\n",
      "|        China|3x3 Basketball|People's Republic...|       Women|\n",
      "|       France|3x3 Basketball|              France|       Women|\n",
      "|        Italy|3x3 Basketball|               Italy|       Women|\n",
      "|        Japan|3x3 Basketball|               Japan|         Men|\n",
      "|        Japan|3x3 Basketball|               Japan|       Women|\n",
      "|       Latvia|3x3 Basketball|              Latvia|         Men|\n",
      "|     Mongolia|3x3 Basketball|            Mongolia|       Women|\n",
      "|  Netherlands|3x3 Basketball|         Netherlands|         Men|\n",
      "|       Poland|3x3 Basketball|              Poland|         Men|\n",
      "|          ROC|3x3 Basketball|                 ROC|         Men|\n",
      "|          ROC|3x3 Basketball|                 ROC|       Women|\n",
      "|      Romania|3x3 Basketball|             Romania|       Women|\n",
      "|       Serbia|3x3 Basketball|              Serbia|         Men|\n",
      "|United States|3x3 Basketball|United States of ...|       Women|\n",
      "|    Australia|       Archery|           Australia|  Men's Team|\n",
      "|    Australia|       Archery|           Australia|  Mixed Team|\n",
      "|   Bangladesh|       Archery|          Bangladesh|  Mixed Team|\n",
      "|      Belarus|       Archery|             Belarus|Women's Team|\n",
      "+-------------+--------------+--------------------+------------+\n",
      "only showing top 20 rows\n",
      "\n"
     ]
    }
   ],
   "source": [
    "teamsDf.show()"
   ]
  },
  {
   "cell_type": "code",
   "execution_count": 330,
   "id": "56760d7f-bd98-48b7-84f7-6a1a090b6cf8",
   "metadata": {},
   "outputs": [
    {
     "name": "stdout",
     "output_type": "stream",
     "text": [
      "+----+--------------------+----+------+------+-----+-------------+--------------------+--------------------+-----------------+--------+-------------+-----------------+--------------------+--------+\n",
      "|Rank|         TeamCountry|Gold|Silver|Bronze|Total|Rank by Total|                Name|             Country|       Discipline|   Event|     TeamName|       Discipline|             Country|   Event|\n",
      "+----+--------------------+----+------+------+-----+-------------+--------------------+--------------------+-----------------+--------+-------------+-----------------+--------------------+--------+\n",
      "|   1|United States of ...|  39|    41|    33|  113|            1|   ANDONOVSKI Vlatko|United States of ...|         Football|   Women|United States|         Football|United States of ...|   Women|\n",
      "|   1|United States of ...|  39|    41|    33|  113|            1|          BERG Laura|United States of ...|Baseball/Softball|Softball|United States|Baseball/Softball|United States of ...|Softball|\n",
      "|   1|United States of ...|  39|    41|    33|  113|            1|         BROWN Chris|United States of ...|     Rugby Sevens|   Women|United States|     Rugby Sevens|United States of ...|   Women|\n",
      "|   1|United States of ...|  39|    41|    33|  113|            1|       DOBSON Howard|United States of ...|Baseball/Softball|Softball|United States|Baseball/Softball|United States of ...|Softball|\n",
      "|   1|United States of ...|  39|    41|    33|  113|            1|         ERIKSEN Ken|United States of ...|Baseball/Softball|Softball|United States|Baseball/Softball|United States of ...|Softball|\n",
      "|   1|United States of ...|  39|    41|    33|  113|            1|      FLOWERS Tairia|United States of ...|Baseball/Softball|Softball|United States|Baseball/Softball|United States of ...|Softball|\n",
      "|   1|United States of ...|  39|    41|    33|  113|            1|         FRIDAY Mike|United States of ...|     Rugby Sevens|     Men|United States|     Rugby Sevens|United States of ...|     Men|\n",
      "|   1|United States of ...|  39|    41|    33|  113|            1|      FUENTES Andrea|United States of ...|Artistic Swimming|    Duet|United States|Artistic Swimming|United States of ...|    Duet|\n",
      "|   1|United States of ...|  39|    41|    33|  113|            1|        KIRALY Karch|United States of ...|       Volleyball|   Women|United States|       Volleyball|United States of ...|   Women|\n",
      "|   1|United States of ...|  39|    41|    33|  113|            1|      KRIKORIAN Adam|United States of ...|       Water Polo|   Women|United States|       Water Polo|United States of ...|   Women|\n",
      "|   1|United States of ...|  39|    41|    33|  113|            1|      POPOVICH Gregg|United States of ...|       Basketball|     Men|United States|       Basketball|United States of ...|     Men|\n",
      "|   1|United States of ...|  39|    41|    33|  113|            1|         SPERAW John|United States of ...|       Volleyball|     Men|United States|       Volleyball|United States of ...|     Men|\n",
      "|   1|United States of ...|  39|    41|    33|  113|            1|         STALEY Dawn|United States of ...|       Basketball|   Women|United States|       Basketball|United States of ...|   Women|\n",
      "|   1|United States of ...|  39|    41|    33|  113|            1|        TARR Heather|United States of ...|Baseball/Softball|Softball|United States|Baseball/Softball|United States of ...|Softball|\n",
      "|   1|United States of ...|  39|    41|    33|  113|            1|      UDOVICIC Dejan|United States of ...|       Water Polo|     Men|United States|       Water Polo|United States of ...|     Men|\n",
      "|   1|United States of ...|  39|    41|    33|  113|            1|     WEINSTEIN Jerry|United States of ...|Baseball/Softball|Baseball|United States|Baseball/Softball|United States of ...|Baseball|\n",
      "|   2|People's Republic...|  38|    32|    18|   88|            2|         JIA Xiuquan|People's Republic...|         Football|   Women|        China|         Football|People's Republic...|   Women|\n",
      "|   2|People's Republic...|  38|    32|    18|   88|            2|           LANG Ping|People's Republic...|       Volleyball|   Women|        China|       Volleyball|People's Republic...|   Women|\n",
      "|   2|People's Republic...|  38|    32|    18|   88|            2|MACKINTOSH Euan M...|People's Republic...|     Rugby Sevens|   Women|        China|     Rugby Sevens|People's Republic...|   Women|\n",
      "|   2|People's Republic...|  38|    32|    18|   88|            2|       POROBIC Petar|People's Republic...|       Water Polo|   Women|        China|       Water Polo|People's Republic...|   Women|\n",
      "+----+--------------------+----+------+------+-----+-------------+--------------------+--------------------+-----------------+--------+-------------+-----------------+--------------------+--------+\n",
      "only showing top 20 rows\n",
      "\n"
     ]
    }
   ],
   "source": [
    "medalsDf.join(CoachesDf,medalsDf[\"TeamCountry\"]==CoachesDf[\"Country\"],\"inner\")\\\n",
    ".join(teamsDf,(teamsDf[\"Country\"]==CoachesDf[\"Country\"]) & (teamsDf[\"Discipline\"]==CoachesDf[\"Discipline\"]) & (teamsDf[\"Event\"]==CoachesDf[\"Event\"]),\"inner\") \\\n",
    ".orderBy(col(\"total\").cast(\"int\").desc())\\\n",
    ".show()"
   ]
  },
  {
   "cell_type": "code",
   "execution_count": 342,
   "id": "10a6967c-01a9-4634-ad6d-dbc2e7448d24",
   "metadata": {},
   "outputs": [
    {
     "name": "stdout",
     "output_type": "stream",
     "text": [
      "medalsDf\n",
      "root\n",
      " |-- Rank: string (nullable = true)\n",
      " |-- TeamCountry: string (nullable = true)\n",
      " |-- Gold: string (nullable = true)\n",
      " |-- Silver: string (nullable = true)\n",
      " |-- Bronze: string (nullable = true)\n",
      " |-- Total: string (nullable = true)\n",
      " |-- Rank by Total: string (nullable = true)\n",
      "\n",
      "CoachesDf\n",
      "root\n",
      " |-- Name: string (nullable = true)\n",
      " |-- Country: string (nullable = true)\n",
      " |-- Discipline: string (nullable = true)\n",
      " |-- Event: string (nullable = true)\n",
      "\n",
      "teamsDf\n",
      "root\n",
      " |-- TeamName: string (nullable = true)\n",
      " |-- Discipline: string (nullable = true)\n",
      " |-- Country: string (nullable = true)\n",
      " |-- Event: string (nullable = true)\n",
      "\n"
     ]
    }
   ],
   "source": [
    "print(\"medalsDf\")\n",
    "medalsDf.printSchema()\n",
    "print(\"CoachesDf\")\n",
    "CoachesDf.printSchema()\n",
    "print(\"teamsDf\")\n",
    "teamsDf.printSchema()\n"
   ]
  },
  {
   "cell_type": "code",
   "execution_count": 358,
   "id": "343bf439-7b76-46d4-8c58-615007255f09",
   "metadata": {},
   "outputs": [],
   "source": [
    "medals_df=medalsDf\n",
    "coaches_df=CoachesDf.withColumnRenamed(\"Event\",\"coachesEvent\")\n",
    "teams_df=teamsDf.withColumnRenamed(\"Event\",\"teamEvent\")\n"
   ]
  },
  {
   "cell_type": "code",
   "execution_count": 359,
   "id": "b8598c11-6116-47d0-9939-358caacf077f",
   "metadata": {},
   "outputs": [
    {
     "name": "stdout",
     "output_type": "stream",
     "text": [
      "+-------------+-----------------+--------------------+---------+----+--------------------+----+------+------+-----+-------------+--------------------+--------------------+-----------------+------------+\n",
      "|     TeamName|       Discipline|             Country|teamEvent|Rank|         TeamCountry|Gold|Silver|Bronze|Total|Rank by Total|                Name|             Country|       Discipline|coachesEvent|\n",
      "+-------------+-----------------+--------------------+---------+----+--------------------+----+------+------+-----+-------------+--------------------+--------------------+-----------------+------------+\n",
      "|    Australia|Artistic Swimming|           Australia|     Duet|   6|           Australia|  17|     7|    22|   46|            6|    MONTICO Loredana|           Australia|Artistic Swimming|        Duet|\n",
      "|    Australia|Artistic Swimming|           Australia|     Team|   6|           Australia|  17|     7|    22|   46|            6|    MONTICO Loredana|           Australia|Artistic Swimming|        Team|\n",
      "|      Austria|Artistic Swimming|             Austria|     Duet|  53|             Austria|   1|     1|     5|    7|           33|    MLADENOVA Albena|             Austria|Artistic Swimming|        Duet|\n",
      "|      Belarus|Artistic Swimming|             Belarus|     Duet|  45|             Belarus|   1|     3|     3|    7|           33| SVETLICHNAYA Aliona|             Belarus|Artistic Swimming|        Duet|\n",
      "|       Canada|Artistic Swimming|              Canada|     Duet|  11|              Canada|   7|     6|    11|   24|           11|       SZAUDER Gabor|              Canada|Artistic Swimming|        Duet|\n",
      "|       Canada|Artistic Swimming|              Canada|     Team|  11|              Canada|   7|     6|    11|   24|           11|       SZAUDER Gabor|              Canada|Artistic Swimming|        Team|\n",
      "|       Canada|Artistic Swimming|              Canada|     Team|  11|              Canada|   7|     6|    11|   24|           11|   KULESZA Katarzyna|              Canada|Artistic Swimming|        Team|\n",
      "|        China|Artistic Swimming|People's Republic...|     Duet|   2|People's Republic...|  38|    32|    18|   88|            2|            WANG Jie|People's Republic...|Artistic Swimming|        Duet|\n",
      "|        China|Artistic Swimming|People's Republic...|     Team|   2|People's Republic...|  38|    32|    18|   88|            2|            WANG Jie|People's Republic...|Artistic Swimming|        Team|\n",
      "|     Colombia|Artistic Swimming|            Colombia|     Duet|  66|            Colombia|   0|     4|     1|    5|           42|GARCIA PIZARRO Paula|            Colombia|Artistic Swimming|        Duet|\n",
      "|        Egypt|Artistic Swimming|               Egypt|     Duet|  54|               Egypt|   1|     1|     4|    6|           39|       ELAFANDI Nour|               Egypt|Artistic Swimming|        Duet|\n",
      "|        Egypt|Artistic Swimming|               Egypt|     Duet|  54|               Egypt|   1|     1|     4|    6|           39|   CHEPAK Anastasiya|               Egypt|Artistic Swimming|        Duet|\n",
      "|        Egypt|Artistic Swimming|               Egypt|     Team|  54|               Egypt|   1|     1|     4|    6|           39|       ELAFANDI Nour|               Egypt|Artistic Swimming|        Team|\n",
      "|        Egypt|Artistic Swimming|               Egypt|     Team|  54|               Egypt|   1|     1|     4|    6|           39|   CHEPAK Anastasiya|               Egypt|Artistic Swimming|        Team|\n",
      "|       France|Artistic Swimming|              France|     Duet|   8|              France|  10|    12|    11|   33|           10|         FABRE Julie|              France|Artistic Swimming|        Duet|\n",
      "|Great Britain|Artistic Swimming|       Great Britain|     Duet|   4|       Great Britain|  22|    21|    22|   65|            4|    SPERONI Stefania|       Great Britain|Artistic Swimming|        Duet|\n",
      "|Great Britain|Artistic Swimming|       Great Britain|     Duet|   4|       Great Britain|  22|    21|    22|   65|            4|         BASSO Paola|       Great Britain|Artistic Swimming|        Duet|\n",
      "|       Greece|Artistic Swimming|              Greece|     Duet|  36|              Greece|   2|     1|     1|    4|           47|    TARRES CAMPA Ana|              Greece|Artistic Swimming|        Duet|\n",
      "|       Greece|Artistic Swimming|              Greece|     Duet|  36|              Greece|   2|     1|     1|    4|           47|  CHERNETSKA Natalia|              Greece|Artistic Swimming|        Duet|\n",
      "|       Greece|Artistic Swimming|              Greece|     Team|  36|              Greece|   2|     1|     1|    4|           47|    TARRES CAMPA Ana|              Greece|Artistic Swimming|        Team|\n",
      "+-------------+-----------------+--------------------+---------+----+--------------------+----+------+------+-----+-------------+--------------------+--------------------+-----------------+------------+\n",
      "only showing top 20 rows\n",
      "\n"
     ]
    }
   ],
   "source": [
    "teams_medals_df = teams_df.join(medals_df, teams_df[\"Country\"] == medals_df[\"TeamCountry\"], \"inner\")\n",
    "\n",
    "# Step 2: Join the result with Coaches on Discipline, Country, and Event\n",
    "final_df = teams_medals_df.join(coaches_df, \n",
    "                                (teams_medals_df[\"Discipline\"] == coaches_df[\"Discipline\"]) &\n",
    "                                (teams_medals_df[\"Country\"] == coaches_df[\"Country\"]) &\n",
    "                                (teams_medals_df[\"teamEvent\"] == coaches_df[\"coachesEvent\"]),\n",
    "                                \"inner\")\n",
    "final_df.show()"
   ]
  },
  {
   "cell_type": "code",
   "execution_count": 363,
   "id": "72a53052-876c-4c53-a587-ac95163693db",
   "metadata": {},
   "outputs": [
    {
     "name": "stdout",
     "output_type": "stream",
     "text": [
      "+-----------------+------------+-----------+\n",
      "|             Name|coachesEvent|TotalMedals|\n",
      "+-----------------+------------+-----------+\n",
      "|  WEINSTEIN Jerry|    Baseball|        113|\n",
      "|   FUENTES Andrea|        Duet|        113|\n",
      "|   POPOVICH Gregg|         Men|        113|\n",
      "|      FRIDAY Mike|         Men|        113|\n",
      "|      SPERAW John|         Men|        113|\n",
      "|   UDOVICIC Dejan|         Men|        113|\n",
      "|     TARR Heather|    Softball|        113|\n",
      "|   FLOWERS Tairia|    Softball|        113|\n",
      "|      ERIKSEN Ken|    Softball|        113|\n",
      "|    DOBSON Howard|    Softball|        113|\n",
      "|       BERG Laura|    Softball|        113|\n",
      "|         WANG Jie|        Team|         88|\n",
      "|      STALEY Dawn|       Women|        113|\n",
      "|ANDONOVSKI Vlatko|       Women|        113|\n",
      "|      BROWN Chris|       Women|        113|\n",
      "|     KIRALY Karch|       Women|        113|\n",
      "|   KRIKORIAN Adam|       Women|        113|\n",
      "+-----------------+------------+-----------+\n",
      "\n"
     ]
    }
   ],
   "source": [
    "final_df = final_df.withColumn(\"TotalMedals\", col(\"Gold\").cast(\"int\") + col(\"Silver\").cast(\"int\") + col(\"Bronze\").cast(\"int\"))\n",
    "window_spec = Window.partitionBy(\"coachesEvent\").orderBy(col(\"TotalMedals\").desc())\n",
    "ranked_df = final_df.withColumn(\"Rank\", rank().over(window_spec))\n",
    "\n",
    "most_successful_coach_df = ranked_df.filter(col(\"Rank\") == 1).select(\"Name\", \"coachesEvent\", \"TotalMedals\")\n",
    "\n",
    "# Show the result\n",
    "most_successful_coach_df.show()"
   ]
  }
 ],
 "metadata": {
  "kernelspec": {
   "display_name": "Python 3 (ipykernel)",
   "language": "python",
   "name": "python3"
  },
  "language_info": {
   "codemirror_mode": {
    "name": "ipython",
    "version": 3
   },
   "file_extension": ".py",
   "mimetype": "text/x-python",
   "name": "python",
   "nbconvert_exporter": "python",
   "pygments_lexer": "ipython3",
   "version": "3.13.1"
  }
 },
 "nbformat": 4,
 "nbformat_minor": 5
}
