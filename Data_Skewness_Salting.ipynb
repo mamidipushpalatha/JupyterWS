{
 "cells": [
  {
   "cell_type": "code",
   "execution_count": 1,
   "id": "0793df6f-994e-4099-8454-0af8e28cf9bc",
   "metadata": {},
   "outputs": [
    {
     "name": "stderr",
     "output_type": "stream",
     "text": [
      "Setting default log level to \"WARN\".\n",
      "To adjust logging level use sc.setLogLevel(newLevel). For SparkR, use setLogLevel(newLevel).\n",
      "25/01/03 17:44:47 WARN NativeCodeLoader: Unable to load native-hadoop library for your platform... using builtin-java classes where applicable\n",
      "25/01/03 17:44:49 WARN Utils: Service 'SparkUI' could not bind on port 4040. Attempting port 4041.\n",
      "                                                                                "
     ]
    },
    {
     "name": "stdout",
     "output_type": "stream",
     "text": [
      "+----+-----+\n",
      "| key|value|\n",
      "+----+-----+\n",
      "|key1|    1|\n",
      "|key1|    2|\n",
      "|key1|    3|\n",
      "|key1|    4|\n",
      "|key2|    5|\n",
      "|key3|    6|\n",
      "+----+-----+\n",
      "\n"
     ]
    }
   ],
   "source": [
    "from pyspark.sql import SparkSession\n",
    "from pyspark.sql.functions import col, lit, concat, rand, split, expr, collect_list\n",
    "\n",
    "# Initialize SparkSession\n",
    "spark = SparkSession.builder.appName(\"SaltingExample\").getOrCreate()\n",
    "\n",
    "# Sample skewed data\n",
    "data = [(\"key1\", 1), (\"key1\", 2), (\"key1\", 3), (\"key1\", 4), (\"key2\", 5), (\"key3\", 6)]\n",
    "columns = [\"key\", \"value\"]\n",
    "\n",
    "df = spark.createDataFrame(data, columns)\n",
    "\n",
    "# Original DataFrame\n",
    "df.show()\n",
    "# Output:\n",
    "# +----+-----+\n",
    "# | key|value|\n",
    "# +----+-----+\n",
    "# |key1|    1|\n",
    "# |key1|    2|\n",
    "# |key1|    3|\n",
    "# |key1|    4|\n",
    "# |key2|    5|\n",
    "# |key3|    6|\n",
    "# +----+-----+\n"
   ]
  },
  {
   "cell_type": "code",
   "execution_count": 3,
   "id": "feb079e9-16c1-4553-a1ca-1a13ca108c8c",
   "metadata": {},
   "outputs": [
    {
     "name": "stdout",
     "output_type": "stream",
     "text": [
      "+----+-----+----------+\n",
      "| key|value|salted_key|\n",
      "+----+-----+----------+\n",
      "|key1|    1|    key1_1|\n",
      "|key1|    2|    key1_0|\n",
      "|key1|    3|    key1_2|\n",
      "|key1|    4|    key1_2|\n",
      "|key2|    5|    key2_0|\n",
      "|key3|    6|    key3_1|\n",
      "+----+-----+----------+\n",
      "\n"
     ]
    }
   ],
   "source": [
    "from pyspark.sql.functions import concat, floor, rand\n",
    "\n",
    "# Add random salt to the keys\n",
    "salted_df = df.withColumn(\"salted_key\", concat(col(\"key\"), lit(\"_\"), floor(rand() * 3)))\n",
    "\n",
    "salted_df.show()\n",
    "# Output (salted keys):\n",
    "# +----+-----+-----------+\n",
    "# | key|value| salted_key|\n",
    "# +----+-----+-----------+\n",
    "# |key1|    1| key1_0    |\n",
    "# |key1|    2| key1_2    |\n",
    "# |key1|    3| key1_1    |\n",
    "# |key1|    4| key1_0    |\n",
    "# |key2|    5| key2_0    |\n",
    "# |key3|    6| key3_2    |\n",
    "# +----+-----+-----------+"
   ]
  },
  {
   "cell_type": "code",
   "execution_count": 4,
   "id": "3ac3dd96-95ba-4efe-b2d4-c45671ebbf0c",
   "metadata": {},
   "outputs": [
    {
     "name": "stderr",
     "output_type": "stream",
     "text": [
      "[Stage 9:==============>                                            (2 + 6) / 8]"
     ]
    },
    {
     "name": "stdout",
     "output_type": "stream",
     "text": [
      "+----------+------+\n",
      "|salted_key|values|\n",
      "+----------+------+\n",
      "|    key1_1|   [1]|\n",
      "|    key1_0|   [2]|\n",
      "|    key1_2|[3, 4]|\n",
      "|    key2_0|   [5]|\n",
      "|    key3_1|   [6]|\n",
      "+----------+------+\n",
      "\n"
     ]
    },
    {
     "name": "stderr",
     "output_type": "stream",
     "text": [
      "                                                                                "
     ]
    }
   ],
   "source": [
    "# Group by salted keys and collect values\n",
    "grouped_salted_df = salted_df.groupBy(\"salted_key\").agg(collect_list(\"value\").alias(\"values\"))\n",
    "\n",
    "grouped_salted_df.show()\n",
    "# Output:\n",
    "# +-----------+-------------+\n",
    "# | salted_key|       values|\n",
    "# +-----------+-------------+\n",
    "# |     key1_0|      [1, 4]|\n",
    "# |     key1_2|         [2]|\n",
    "# |     key1_1|         [3]|\n",
    "# |     key2_0|         [5]|\n",
    "# |     key3_2|         [6]|\n",
    "# +-----------+-------------+"
   ]
  }
 ],
 "metadata": {
  "kernelspec": {
   "display_name": "Python 3 (ipykernel)",
   "language": "python",
   "name": "python3"
  },
  "language_info": {
   "codemirror_mode": {
    "name": "ipython",
    "version": 3
   },
   "file_extension": ".py",
   "mimetype": "text/x-python",
   "name": "python",
   "nbconvert_exporter": "python",
   "pygments_lexer": "ipython3",
   "version": "3.13.1"
  }
 },
 "nbformat": 4,
 "nbformat_minor": 5
}
