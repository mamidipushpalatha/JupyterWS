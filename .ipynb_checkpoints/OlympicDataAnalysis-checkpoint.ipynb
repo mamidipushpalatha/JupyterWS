{
 "cells": [
  {
   "cell_type": "code",
   "execution_count": 21,
   "id": "089dec49-ab7d-49bf-922a-19e07c8951da",
   "metadata": {},
   "outputs": [
    {
     "name": "stdout",
     "output_type": "stream",
     "text": [
      "3.13.1 (main, Dec  3 2024, 17:59:52) [Clang 16.0.0 (clang-1600.0.26.4)]\n"
     ]
    }
   ],
   "source": [
    "import sys\n",
    "print(sys.version)"
   ]
  },
  {
   "cell_type": "code",
   "execution_count": 1,
   "id": "ccc3e973-1c7e-4460-af55-6b1c202d9066",
   "metadata": {},
   "outputs": [],
   "source": [
    "from pyspark.sql import SparkSession\n",
    "from pyspark.sql.functions import *\n"
   ]
  },
  {
   "cell_type": "code",
   "execution_count": 2,
   "id": "21ab2297-536e-4a39-b5ce-dab11d2cdffb",
   "metadata": {},
   "outputs": [
    {
     "name": "stderr",
     "output_type": "stream",
     "text": [
      "Setting default log level to \"WARN\".\n",
      "To adjust logging level use sc.setLogLevel(newLevel). For SparkR, use setLogLevel(newLevel).\n",
      "25/01/01 13:02:59 WARN NativeCodeLoader: Unable to load native-hadoop library for your platform... using builtin-java classes where applicable\n"
     ]
    }
   ],
   "source": [
    "    spark = SparkSession \\\n",
    "        .builder \\\n",
    "        .appName(\"CSV Join Demo\") \\\n",
    "        .master(\"local[3]\") \\\n",
    "        .getOrCreate()\n",
    "spark.sparkContext.setLogLevel(\"OFF\")"
   ]
  },
  {
   "cell_type": "code",
   "execution_count": 3,
   "id": "5d9385aa-f986-4619-80a3-ead1e24e44f7",
   "metadata": {},
   "outputs": [
    {
     "name": "stderr",
     "output_type": "stream",
     "text": [
      "                                                                                "
     ]
    }
   ],
   "source": [
    "df = spark.read.format(\"csv\").option(\"header\", \"true\").load(\"/Users/akhitha/pycharmProjects/Spark-Programming-In-Python-master/playground/data/olympics/Teams.csv\")\n"
   ]
  },
  {
   "cell_type": "code",
   "execution_count": 4,
   "id": "5deaf82a-4c82-4ca3-bdd4-6e47e395e746",
   "metadata": {},
   "outputs": [],
   "source": [
    "\n",
    "basepath =\"/Users/akhitha/pycharmProjects/Spark-Programming-In-Python-master/playground/data/olympics\"\n",
    "\n",
    "# Athletes_DF = spark.read.format(\"csv\").option(\"header\", \"true\").load(f\"{basepath}/Athletes.csv\")\n",
    "# Coaches_DF = spark.read.format(\"csv\").option(\"header\", \"true\").load(f\"{basepath}/Coaches.csv\")\n",
    "# EntriesGender_DF = spark.read.format(\"csv\").option(\"header\", \"true\").load(f\"{basepath}/EntriesGender.csv\")\n",
    "# Medals_DF = spark.read.format(\"csv\").option(\"header\", \"true\").load(f\"{basepath}/Medals.csv\")\n",
    "# Teams_DF = spark.read.format(\"csv\").option(\"header\", \"true\").load(f\"{basepath}/Teams.csv\")\n",
    "\n",
    "\n",
    "athletesDf = spark.read.format(\"csv\").option(\"header\", \"true\").load(f\"{basepath}/Athletes.csv\")\n",
    "CoachesDf = spark.read.format(\"csv\").option(\"header\", \"true\").load(f\"{basepath}/Coaches.csv\")\n",
    "entriesGenderDf = spark.read.format(\"csv\").option(\"header\", \"true\").load(f\"{basepath}/EntriesGender.csv\")\n",
    "medalsDf = spark.read.format(\"csv\").option(\"header\", \"true\").load(f\"{basepath}/Medals.csv\")\n",
    "teamsDf = spark.read.format(\"csv\").option(\"header\", \"true\").load(f\"{basepath}/Teams.csv\")\n",
    "\n"
   ]
  },
  {
   "cell_type": "code",
   "execution_count": 5,
   "id": "504f2d00-8ff0-4aaa-bfe6-2d4d10ad8ca6",
   "metadata": {},
   "outputs": [
    {
     "name": "stdout",
     "output_type": "stream",
     "text": [
      "scenario: 1.Find the total number of male and female entries for each discipline where Japan has coaches\n"
     ]
    },
    {
     "name": "stderr",
     "output_type": "stream",
     "text": [
      "[Stage 7:>                                                          (0 + 1) / 1]"
     ]
    },
    {
     "name": "stdout",
     "output_type": "stream",
     "text": [
      "+-----------------+---------+-----------+\n",
      "|       Discipline|MaleCount|FemaleCount|\n",
      "+-----------------+---------+-----------+\n",
      "|Baseball/Softball|    576.0|      360.0|\n",
      "|       Basketball|    720.0|      720.0|\n",
      "|         Handball|    504.0|      504.0|\n",
      "|     Rugby Sevens|    453.0|      438.0|\n",
      "|       Water Polo|    292.0|      244.0|\n",
      "|       Volleyball|    720.0|      720.0|\n",
      "|Artistic Swimming|      0.0|      420.0|\n",
      "|           Hockey|    576.0|      576.0|\n",
      "|         Football|   2064.0|     1584.0|\n",
      "+-----------------+---------+-----------+\n",
      "\n"
     ]
    },
    {
     "name": "stderr",
     "output_type": "stream",
     "text": [
      "                                                                                "
     ]
    }
   ],
   "source": [
    "print(\"scenario: 1.Find the total number of male and female entries for each discipline where Japan has coaches\")\n",
    "\n",
    "GenderCountDf= CoachesDf.join(entriesGenderDf, on=\"Discipline\", how=\"right\")\\\n",
    ".filter(col(\"Country\") == \"Japan\")  \\\n",
    ".groupBy(\"Discipline\") \\\n",
    ".agg(sum(\"Male\").alias(\"MaleCount\"), sum(\"Female\").alias(\"FemaleCount\")) \\\n",
    ".select(\"Discipline\",\"MaleCount\",\"FemaleCount\")\n",
    "\n",
    "GenderCountDf.show()"
   ]
  },
  {
   "cell_type": "code",
   "execution_count": 16,
   "id": "985e14e3-c640-4569-9376-9ee001fbcb17",
   "metadata": {},
   "outputs": [
    {
     "name": "stdout",
     "output_type": "stream",
     "text": [
      "scenario: 1.Find the total number of male and female entries for each discipline where Japan has coaches\n",
      "+-----------------+---------+-----------+\n",
      "|       Discipline|MaleCount|FemaleCount|\n",
      "+-----------------+---------+-----------+\n",
      "|Baseball/Softball|    576.0|      360.0|\n",
      "|       Basketball|    720.0|      720.0|\n",
      "|         Handball|    504.0|      504.0|\n",
      "|     Rugby Sevens|    453.0|      438.0|\n",
      "|       Water Polo|    292.0|      244.0|\n",
      "|       Volleyball|    720.0|      720.0|\n",
      "|Artistic Swimming|      0.0|      420.0|\n",
      "|           Hockey|    576.0|      576.0|\n",
      "|         Football|   2064.0|     1584.0|\n",
      "+-----------------+---------+-----------+\n",
      "\n"
     ]
    }
   ],
   "source": [
    "print(\"scenario: 1.Find the total number of male and female entries for each discipline where Japan has coaches\")\n",
    "\n",
    "GenderCountDf= CoachesDf.join(entriesGenderDf, on=\"Discipline\", how=\"inner\")\\\n",
    ".filter(col(\"Country\") == \"Japan\")  \\\n",
    ".groupBy(\"Discipline\") \\\n",
    ".agg(sum(\"Male\").alias(\"MaleCount\"), sum(\"Female\").alias(\"FemaleCount\")) \\\n",
    ".select(\"Discipline\",\"MaleCount\",\"FemaleCount\")\n",
    "\n",
    "GenderCountDf.show()"
   ]
  },
  {
   "cell_type": "code",
   "execution_count": 113,
   "id": "80e79903-7b47-430b-92c2-5135d8cfc0a1",
   "metadata": {},
   "outputs": [
    {
     "name": "stdout",
     "output_type": "stream",
     "text": [
      "+----+--------------------+----+------+------+-----+-------------+\n",
      "|Rank|         TeamCountry|Gold|Silver|Bronze|Total|Rank by Total|\n",
      "+----+--------------------+----+------+------+-----+-------------+\n",
      "|   1|United States of ...|  39|    41|    33|  113|            1|\n",
      "|   2|People's Republic...|  38|    32|    18|   88|            2|\n",
      "|   3|               Japan|  27|    14|    17|   58|            5|\n",
      "|   4|       Great Britain|  22|    21|    22|   65|            4|\n",
      "|   5|                 ROC|  20|    28|    23|   71|            3|\n",
      "|   6|           Australia|  17|     7|    22|   46|            6|\n",
      "|   7|         Netherlands|  10|    12|    14|   36|            9|\n",
      "|   8|              France|  10|    12|    11|   33|           10|\n",
      "|   9|             Germany|  10|    11|    16|   37|            8|\n",
      "|  10|               Italy|  10|    10|    20|   40|            7|\n",
      "|  11|              Canada|   7|     6|    11|   24|           11|\n",
      "|  12|              Brazil|   7|     6|     8|   21|           12|\n",
      "|  13|         New Zealand|   7|     6|     7|   20|           13|\n",
      "|  14|                Cuba|   7|     3|     5|   15|           18|\n",
      "|  15|             Hungary|   6|     7|     7|   20|           13|\n",
      "|  16|   Republic of Korea|   6|     4|    10|   20|           13|\n",
      "|  17|              Poland|   4|     5|     5|   14|           19|\n",
      "|  18|      Czech Republic|   4|     4|     3|   11|           23|\n",
      "|  19|               Kenya|   4|     4|     2|   10|           25|\n",
      "|  20|              Norway|   4|     2|     2|    8|           29|\n",
      "+----+--------------------+----+------+------+-----+-------------+\n",
      "only showing top 20 rows\n",
      "\n"
     ]
    }
   ],
   "source": [
    "medalsDf.show()"
   ]
  },
  {
   "cell_type": "code",
   "execution_count": 115,
   "id": "e3526a72-7f6e-49aa-a3d7-498fddfc3e1a",
   "metadata": {},
   "outputs": [
    {
     "name": "stdout",
     "output_type": "stream",
     "text": [
      "+-------------+--------------+--------------------+------------+\n",
      "|     TeamName|    Discipline|             Country|       Event|\n",
      "+-------------+--------------+--------------------+------------+\n",
      "|      Belgium|3x3 Basketball|             Belgium|         Men|\n",
      "|        China|3x3 Basketball|People's Republic...|         Men|\n",
      "|        China|3x3 Basketball|People's Republic...|       Women|\n",
      "|       France|3x3 Basketball|              France|       Women|\n",
      "|        Italy|3x3 Basketball|               Italy|       Women|\n",
      "|        Japan|3x3 Basketball|               Japan|         Men|\n",
      "|        Japan|3x3 Basketball|               Japan|       Women|\n",
      "|       Latvia|3x3 Basketball|              Latvia|         Men|\n",
      "|     Mongolia|3x3 Basketball|            Mongolia|       Women|\n",
      "|  Netherlands|3x3 Basketball|         Netherlands|         Men|\n",
      "|       Poland|3x3 Basketball|              Poland|         Men|\n",
      "|          ROC|3x3 Basketball|                 ROC|         Men|\n",
      "|          ROC|3x3 Basketball|                 ROC|       Women|\n",
      "|      Romania|3x3 Basketball|             Romania|       Women|\n",
      "|       Serbia|3x3 Basketball|              Serbia|         Men|\n",
      "|United States|3x3 Basketball|United States of ...|       Women|\n",
      "|    Australia|       Archery|           Australia|  Men's Team|\n",
      "|    Australia|       Archery|           Australia|  Mixed Team|\n",
      "|   Bangladesh|       Archery|          Bangladesh|  Mixed Team|\n",
      "|      Belarus|       Archery|             Belarus|Women's Team|\n",
      "+-------------+--------------+--------------------+------------+\n",
      "only showing top 20 rows\n",
      "\n"
     ]
    }
   ],
   "source": [
    "teamsDf.show()"
   ]
  },
  {
   "cell_type": "code",
   "execution_count": 17,
   "id": "3f4828eb-bbf5-4f77-8ba5-396fcd4151f3",
   "metadata": {},
   "outputs": [
    {
     "name": "stdout",
     "output_type": "stream",
     "text": [
      "Scenario: 2.Determine which country has the highest average number of medals per discipline\n",
      "+--------------------+-----------+\n",
      "|         TeamCountry|totalMedals|\n",
      "+--------------------+-----------+\n",
      "|       Côte d'Ivoire|        1.0|\n",
      "|Islamic Republic ...|        7.0|\n",
      "|      Chinese Taipei|       12.0|\n",
      "|              Sweden|        9.0|\n",
      "|   Republic of Korea|       20.0|\n",
      "|         Philippines|        4.0|\n",
      "|            Malaysia|        2.0|\n",
      "|                Fiji|        2.0|\n",
      "|              Turkey|       13.0|\n",
      "|             Germany|       37.0|\n",
      "|              Jordan|        2.0|\n",
      "|              France|       33.0|\n",
      "|              Greece|        4.0|\n",
      "|              Kosovo|        2.0|\n",
      "|            Slovakia|        4.0|\n",
      "|    Hong Kong, China|        6.0|\n",
      "|           Argentina|        3.0|\n",
      "|             Belgium|        7.0|\n",
      "|       Great Britain|       65.0|\n",
      "|          San Marino|        3.0|\n",
      "+--------------------+-----------+\n",
      "only showing top 20 rows\n",
      "\n"
     ]
    }
   ],
   "source": [
    "    print(\"Scenario: 2.Determine which country has the highest average number of medals per discipline\")\n",
    "    totalmedals_df=medalsDf.groupBy(\"TeamCountry\").agg(sum(\"Total\").alias(\"totalMedals\"))\n",
    "    totalmedals_df.show()\n"
   ]
  },
  {
   "cell_type": "code",
   "execution_count": 18,
   "id": "c739c865-e28f-4983-a284-1ccf98eae88e",
   "metadata": {},
   "outputs": [
    {
     "name": "stdout",
     "output_type": "stream",
     "text": [
      "counting discipline\n",
      "+-------------------+--------------------+---------------+\n",
      "|         Discipline|             country|DisciplineCount|\n",
      "+-------------------+--------------------+---------------+\n",
      "|Artistic Gymnastics|               Italy|              1|\n",
      "|      Cycling Track|         Switzerland|              2|\n",
      "|Artistic Gymnastics|       Great Britain|              2|\n",
      "|         Water Polo|                 ROC|              1|\n",
      "|            Archery|             Ukraine|              2|\n",
      "|  Artistic Swimming|             Belarus|              1|\n",
      "|      Cycling Track|              Canada|              4|\n",
      "|      Cycling Track|             Ireland|              2|\n",
      "|  Artistic Swimming|               Japan|              2|\n",
      "|      Cycling Track|                 ROC|              3|\n",
      "|       Table Tennis|             Germany|              3|\n",
      "|      Cycling Track|         New Zealand|              5|\n",
      "|   Beach Volleyball|              Brazil|              4|\n",
      "|      Cycling Track|             Denmark|              3|\n",
      "|            Fencing|Islamic Republic ...|              1|\n",
      "|           Swimming|               Spain|              1|\n",
      "|Rhythmic Gymnastics|          Azerbaijan|              1|\n",
      "|      Cycling Track|               Japan|              1|\n",
      "|           Swimming|              France|              5|\n",
      "|          Triathlon|             Belgium|              1|\n",
      "+-------------------+--------------------+---------------+\n",
      "only showing top 20 rows\n",
      "\n"
     ]
    }
   ],
   "source": [
    "    print(\"counting discipline\")\n",
    "    DisciplineCountDF=teamsDf.select(\"Country\",\"Discipline\").groupBy(\"Discipline\",\"country\").agg(count(\"Discipline\").alias(\"DisciplineCount\"))\n",
    "    DisciplineCountDF.show()\n"
   ]
  },
  {
   "cell_type": "code",
   "execution_count": 19,
   "id": "2accde41-e858-47f2-9b13-c73a4144cde5",
   "metadata": {},
   "outputs": [
    {
     "name": "stdout",
     "output_type": "stream",
     "text": [
      "+--------------------+-----------+-------------------+--------------------+---------------+\n",
      "|         TeamCountry|totalMedals|         Discipline|             country|DisciplineCount|\n",
      "+--------------------+-----------+-------------------+--------------------+---------------+\n",
      "|               Italy|       40.0|Artistic Gymnastics|               Italy|              1|\n",
      "|         Switzerland|       13.0|      Cycling Track|         Switzerland|              2|\n",
      "|       Great Britain|       65.0|Artistic Gymnastics|       Great Britain|              2|\n",
      "|                 ROC|       71.0|         Water Polo|                 ROC|              1|\n",
      "|             Ukraine|       19.0|            Archery|             Ukraine|              2|\n",
      "|             Belarus|        7.0|  Artistic Swimming|             Belarus|              1|\n",
      "|              Canada|       24.0|      Cycling Track|              Canada|              4|\n",
      "|             Ireland|        4.0|      Cycling Track|             Ireland|              2|\n",
      "|               Japan|       58.0|  Artistic Swimming|               Japan|              2|\n",
      "|                 ROC|       71.0|      Cycling Track|                 ROC|              3|\n",
      "|             Germany|       37.0|       Table Tennis|             Germany|              3|\n",
      "|         New Zealand|       20.0|      Cycling Track|         New Zealand|              5|\n",
      "|              Brazil|       21.0|   Beach Volleyball|              Brazil|              4|\n",
      "|             Denmark|       11.0|      Cycling Track|             Denmark|              3|\n",
      "|Islamic Republic ...|        7.0|            Fencing|Islamic Republic ...|              1|\n",
      "|               Spain|       17.0|           Swimming|               Spain|              1|\n",
      "|          Azerbaijan|        7.0|Rhythmic Gymnastics|          Azerbaijan|              1|\n",
      "|               Japan|       58.0|      Cycling Track|               Japan|              1|\n",
      "|              France|       33.0|           Swimming|              France|              5|\n",
      "|             Belgium|        7.0|          Triathlon|             Belgium|              1|\n",
      "+--------------------+-----------+-------------------+--------------------+---------------+\n",
      "only showing top 20 rows\n",
      "\n",
      "+--------------------+-----------+-------------------+--------------------+---------------+-------------------------+\n",
      "|         TeamCountry|totalMedals|         Discipline|             country|DisciplineCount|avg_medals_per_descipline|\n",
      "+--------------------+-----------+-------------------+--------------------+---------------+-------------------------+\n",
      "|               Italy|       40.0|Artistic Gymnastics|               Italy|              1|                     40.0|\n",
      "|         Switzerland|       13.0|      Cycling Track|         Switzerland|              2|                      6.5|\n",
      "|       Great Britain|       65.0|Artistic Gymnastics|       Great Britain|              2|                     32.5|\n",
      "|                 ROC|       71.0|         Water Polo|                 ROC|              1|                     71.0|\n",
      "|             Ukraine|       19.0|            Archery|             Ukraine|              2|                      9.5|\n",
      "|             Belarus|        7.0|  Artistic Swimming|             Belarus|              1|                      7.0|\n",
      "|              Canada|       24.0|      Cycling Track|              Canada|              4|                      6.0|\n",
      "|             Ireland|        4.0|      Cycling Track|             Ireland|              2|                      2.0|\n",
      "|               Japan|       58.0|  Artistic Swimming|               Japan|              2|                     29.0|\n",
      "|                 ROC|       71.0|      Cycling Track|                 ROC|              3|       23.666666666666668|\n",
      "|             Germany|       37.0|       Table Tennis|             Germany|              3|       12.333333333333334|\n",
      "|         New Zealand|       20.0|      Cycling Track|         New Zealand|              5|                      4.0|\n",
      "|              Brazil|       21.0|   Beach Volleyball|              Brazil|              4|                     5.25|\n",
      "|             Denmark|       11.0|      Cycling Track|             Denmark|              3|       3.6666666666666665|\n",
      "|Islamic Republic ...|        7.0|            Fencing|Islamic Republic ...|              1|                      7.0|\n",
      "|               Spain|       17.0|           Swimming|               Spain|              1|                     17.0|\n",
      "|          Azerbaijan|        7.0|Rhythmic Gymnastics|          Azerbaijan|              1|                      7.0|\n",
      "|               Japan|       58.0|      Cycling Track|               Japan|              1|                     58.0|\n",
      "|              France|       33.0|           Swimming|              France|              5|                      6.6|\n",
      "|             Belgium|        7.0|          Triathlon|             Belgium|              1|                      7.0|\n",
      "+--------------------+-----------+-------------------+--------------------+---------------+-------------------------+\n",
      "only showing top 20 rows\n",
      "\n"
     ]
    }
   ],
   "source": [
    "joined_df=totalmedals_df.join(DisciplineCountDF,totalmedals_df.TeamCountry ==DisciplineCountDF[\"country\"], how=\"inner\")\n",
    "avg_medals_df= joined_df.withColumn(\"avg_medals_per_descipline\", col(\"totalMedals\")/col(\"DisciplineCount\"))\n",
    "joined_df.show()\n",
    "avg_medals_df.show()"
   ]
  },
  {
   "cell_type": "code",
   "execution_count": 20,
   "id": "a363b7d8-4cbe-4057-85d4-0024ca1f5776",
   "metadata": {},
   "outputs": [
    {
     "name": "stdout",
     "output_type": "stream",
     "text": [
      "+--------------------+-----------+--------------+--------------------+---------------+-------------------------+\n",
      "|         TeamCountry|totalMedals|    Discipline|             country|DisciplineCount|avg_medals_per_descipline|\n",
      "+--------------------+-----------+--------------+--------------------+---------------+-------------------------+\n",
      "|United States of ...|      113.0|3x3 Basketball|United States of ...|              1|                    113.0|\n",
      "+--------------------+-----------+--------------+--------------------+---------------+-------------------------+\n",
      "\n"
     ]
    }
   ],
   "source": [
    "highest_avg_medal=avg_medals_df.orderBy(col(\"avg_medals_per_descipline\").desc()).limit(1)\n",
    "highest_avg_medal.show()\n"
   ]
  }
 ],
 "metadata": {
  "kernelspec": {
   "display_name": "Python 3 (ipykernel)",
   "language": "python",
   "name": "python3"
  },
  "language_info": {
   "codemirror_mode": {
    "name": "ipython",
    "version": 3
   },
   "file_extension": ".py",
   "mimetype": "text/x-python",
   "name": "python",
   "nbconvert_exporter": "python",
   "pygments_lexer": "ipython3",
   "version": "3.13.1"
  }
 },
 "nbformat": 4,
 "nbformat_minor": 5
}
